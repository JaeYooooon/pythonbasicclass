{
  "nbformat": 4,
  "nbformat_minor": 0,
  "metadata": {
    "colab": {
      "name": "Binary Tree.ipynb",
      "provenance": [],
      "authorship_tag": "ABX9TyOzl448as0ihsxqqYgV/fva",
      "include_colab_link": true
    },
    "kernelspec": {
      "name": "python3",
      "display_name": "Python 3"
    },
    "language_info": {
      "name": "python"
    }
  },
  "cells": [
    {
      "cell_type": "markdown",
      "metadata": {
        "id": "view-in-github",
        "colab_type": "text"
      },
      "source": [
        "<a href=\"https://colab.research.google.com/github/JaeYooooon/pythonbasicclass/blob/main/Binary_Tree.ipynb\" target=\"_parent\"><img src=\"https://colab.research.google.com/assets/colab-badge.svg\" alt=\"Open In Colab\"/></a>"
      ]
    },
    {
      "cell_type": "code",
      "execution_count": null,
      "metadata": {
        "id": "KuBS9roaEUSv"
      },
      "outputs": [],
      "source": [
        "# 이진 트리\n",
        "\n",
        "# 이진 트리 구조는 노드가 최대 2개의 자식 노드를 가지는 구조\n",
        "# 왼쪽 서브 트리의 값은 루트 값보다는 작고 오른쪽 서브트리 값은 루트보다 큰값을\n",
        "# 가지도록 구성한다. 주로 빠른 검색이 필요한 곳에서 사용하므로 '이진 검색 트리'\n",
        "# 라고도 한다.\n",
        "\n",
        "# 이진 트리 생성 방범\n",
        "\n"
      ]
    },
    {
      "cell_type": "code",
      "source": [
        "class TreeNode() :\n",
        "  def __init__(self) :  #생성자\n",
        "    self.left = None\n",
        "    self.data = None\n",
        "    self.right = None\n",
        "\n",
        "memory = []\n",
        "root = None\n",
        "nameAry = ['A','B','C','D','E','F']\n",
        "\n",
        "# 메인 코드\n",
        "node = TreeNode()\n",
        "node.data = nameAry[0]\n",
        "root = node\n",
        "memory.append(node)\n",
        "\n",
        "for name in nameAry[1:]:\n",
        "  node = TreeNode()\n",
        "  node.data = name  #B\n",
        "  current = root\n",
        "  while True :\n",
        "    if name < current.data:\n",
        "      if current.left == None:\n",
        "        current.left = node\n",
        "        break\n",
        "      current = current.left\n",
        "    else:\n",
        "      if current.right == None:\n",
        "        current.right = node\n",
        "        break\n",
        "      current = current.right\n",
        "  memory.append(node)\n",
        "\n",
        "print(\"이진 탐색 트리 구성 완료\")\n",
        "\n",
        "\n",
        "\n",
        "# 이진 트리 검색\n",
        "\n",
        "findName = 'C'\n",
        "current = root \n",
        "\n",
        "while True:\n",
        "  if findName == current.data:\n",
        "    print(findName, '을 찾음')\n",
        "    break\n",
        "  elif findName < current.data:\n",
        "    if current.left ==None:\n",
        "      print(findName,'가 트리에 없음')\n",
        "      break\n",
        "    current = current.left\n",
        "  else:\n",
        "    if current.right == None:\n",
        "      print(findName,'가 트리에 없음')\n",
        "      break\n",
        "    current = current.right\n",
        "\n",
        "\n",
        "# 이진 트리 삭제 \n",
        "deleteName = 'C'\n",
        "current = root\n",
        "parent = None\n",
        "\n",
        "while True :\n",
        "    if deleteName == current.data :\n",
        "        if current.left == None and current.right == None :\n",
        "            if parent.left == current:\n",
        "                parent.left = None\n",
        "            else :\n",
        "                parent.right = None\n",
        "            del(current)\n",
        "    \n",
        "        elif current.left != None and current.right == None:\n",
        "            if parent.left == current :\n",
        "                parent.left = current.left\n",
        "            else :\n",
        "                parent.right = current.left\n",
        "            del(current)\n",
        "\n",
        "        elif current.left == None and current.right != None :\n",
        "            if parent.left == current :\n",
        "                parent.left = current.right\n",
        "            else :\n",
        "                parent.right = current.right\n",
        "            del(current)\n",
        "\n",
        "        print(deleteName, '이(가) 삭제됨.')\n",
        "        break\n",
        "    \n",
        "    elif deleteName < current.data :\n",
        "        if current.left == None:\n",
        "            print(deleteName, '이(가) 트리에 없음')\n",
        "            break\n",
        "        parent = current\n",
        "        currentt = current.left\n",
        "    \n",
        "    else :\n",
        "        if current.right == None :\n",
        "            print(deleteName, '이(가) 트리에 없음')\n",
        "            break\n",
        "        parent = current\n",
        "        current = current.right\n",
        "\n",
        "                                                                                                                                                                                                                                                                                                                                                                                                                                                                                                                                                                                                                                                                                                                                                                                                                                                                                                                                                                                                                                                                                                                                                                                                                                                                                                                                                                                                                                                                                                                                                                                                                                                                                                                                                                                                                                                                                                                                                                                                                                                                                                                                                                                                                                                                                                                                                                                                                                                                                                                                                                                                                                                                                                                                                                                                                                                                                                                                                                                                                                                                                                                                                                                                                                                                                                                                                                                        \n",
        "\n"
      ],
      "metadata": {
        "colab": {
          "base_uri": "https://localhost:8080/"
        },
        "id": "oLYi5_F1JD-s",
        "outputId": "0371df95-07bd-43a1-ace8-0367c74a25fe"
      },
      "execution_count": 6,
      "outputs": [
        {
          "output_type": "stream",
          "name": "stdout",
          "text": [
            "이진 탐색 트리 구성 완료\n",
            "C 을 찾음\n",
            "C 이(가) 삭제됨.\n"
          ]
        }
      ]
    }
  ]
}