{
  "nbformat": 4,
  "nbformat_minor": 0,
  "metadata": {
    "colab": {
      "name": "python basic day1.ipynb",
      "provenance": [],
      "collapsed_sections": [],
      "authorship_tag": "ABX9TyOIV7tQur5xlRzv+pRP7OsX",
      "include_colab_link": true
    },
    "kernelspec": {
      "name": "python3",
      "display_name": "Python 3"
    },
    "language_info": {
      "name": "python"
    }
  },
  "cells": [
    {
      "cell_type": "markdown",
      "metadata": {
        "id": "view-in-github",
        "colab_type": "text"
      },
      "source": [
        "<a href=\"https://colab.research.google.com/github/JaeYooooon/pythonbasicclass/blob/main/python_basic_day1.ipynb\" target=\"_parent\"><img src=\"https://colab.research.google.com/assets/colab-badge.svg\" alt=\"Open In Colab\"/></a>"
      ]
    },
    {
      "cell_type": "code",
      "execution_count": 1,
      "metadata": {
        "colab": {
          "base_uri": "https://localhost:8080/"
        },
        "id": "RXylkxs72Wdm",
        "outputId": "6cd7ec9e-8d95-4958-9831-23381657d0ef"
      },
      "outputs": [
        {
          "output_type": "stream",
          "name": "stdout",
          "text": [
            "Hello World\n"
          ]
        }
      ],
      "source": [
        "# 파이썬이란!!!\n",
        "\n",
        "# 1991 네델란드 '귀도 반 로섬'에 의해 개발된 언어\n",
        "# 본래 '비단뱀'이라는 듯을 가지고 있어 로고등 대부분의 로고등을 뱀으로 나타낸다.\n",
        "\n",
        "# 파이썬의 특징\n",
        "# 1) 파이썬은 인터프리터 언어이다. \n",
        "\n",
        "# 2) 플랫폼에 독립적이다.\n",
        "\n",
        "# 3) 객체 지향 언어이다. object oriented language\n",
        "\n",
        "# 4) 동적 타이핑 언어이다.\n",
        "\n",
        "# 5) 개발 속도가 빠르다.\n",
        "\n",
        "# * 개발 환경 - web : colab , local : Anaconda or vs code"
      ]
    },
    {
      "cell_type": "code",
      "source": [
        "# 주석 comment\n",
        "# 코드에 설명을 작성하는 부분\n",
        "# 주석은 프로그램 실행에 전혀 영향을 주지 않는다.\n",
        "# 주석은 '#' 기호를 사용하거나 '''주석''' , \"\"\"주석\"\"\""
      ],
      "metadata": {
        "id": "_5K8HaY8-Fde"
      },
      "execution_count": null,
      "outputs": []
    },
    {
      "cell_type": "code",
      "source": [
        "# ''' Docstring\n",
        "# 파일명 : Ex02-1.py\n",
        "# 개요 : 반지름을 전달하면 원의 넓이를 반환\n",
        "# 작성자 : 홍길동\n",
        "# 작성일 : 2020-0825\n",
        "# '''\n",
        "# # math 모듈 포함\n",
        "# import math\n",
        "\n",
        "# def get_area(radius):\n",
        "# \"\"\"반지름을 입력받아 원의 넓이를 반환하는 get_area()함수\"\"\" \n",
        "# area = math.pi * math.pow(radius.2)\n",
        "# return area\n",
        "\n",
        "# radius = 1.5\n",
        "# # get_area() 함수 호출 결과를 area 변수에 저장\n",
        "# area = get_area(radius)\n",
        "# print(area) #area를 출력한다.\n",
        "# print(get_area.__doc__)\n",
        "\n"
      ],
      "metadata": {
        "colab": {
          "base_uri": "https://localhost:8080/",
          "height": 137
        },
        "id": "DE7utC-r_KP7",
        "outputId": "f619d551-c24d-407c-9165-c20c598c3644"
      },
      "execution_count": 6,
      "outputs": [
        {
          "output_type": "error",
          "ename": "IndentationError",
          "evalue": "ignored",
          "traceback": [
            "\u001b[0;36m  File \u001b[0;32m\"<ipython-input-6-e38ca512c5e8>\"\u001b[0;36m, line \u001b[0;32m11\u001b[0m\n\u001b[0;31m    \"\"\"반지름을 입력받아 원의 넓이를 반환하는 get_area()함수\"\"\"\u001b[0m\n\u001b[0m                                           ^\u001b[0m\n\u001b[0;31mIndentationError\u001b[0m\u001b[0;31m:\u001b[0m expected an indented block\n"
          ]
        }
      ]
    },
    {
      "cell_type": "code",
      "source": [
        "# 변수  variable\n",
        "\n",
        "# 어떤 데이터를 저장할때 사용되는 저장소\n",
        "\n",
        "score = 100 # score라는 이름의 변수에 100을 넣는다.\n",
        "print(score)\n",
        "\n",
        "#변수 이름 생성 규칙\n",
        "# 1. 영문, 한글, 숫자, 밑줄로 구성된다.(한글은 변수명으로 사용하지 말자)\n",
        "# 2. 특수문자는 사용할수 없다.\n",
        "# 3. 대문자와 소문자는 구분한다.\n",
        "# 4. 변수명의 첫문자에 숫자는 쓸 수 없다.\n",
        "# 5. 예약어(키워드)는 사용할 수 없다.\n",
        "\n",
        "# * 가급적 소문자로만 만든다.\n",
        "# * 가급적 한글은 사용하지 말자.\n",
        "# * 가급적 의미있는 단어를 사용하자.\n",
        "\n"
      ],
      "metadata": {
        "colab": {
          "base_uri": "https://localhost:8080/",
          "height": 137
        },
        "id": "7sTNaU2oCIme",
        "outputId": "9954fc9d-1986-4766-9ba2-a3ad329fe177"
      },
      "execution_count": 11,
      "outputs": [
        {
          "output_type": "error",
          "ename": "SyntaxError",
          "evalue": "ignored",
          "traceback": [
            "\u001b[0;36m  File \u001b[0;32m\"<ipython-input-11-e71344789493>\"\u001b[0;36m, line \u001b[0;32m12\u001b[0m\n\u001b[0;31m    $=100\u001b[0m\n\u001b[0m    ^\u001b[0m\n\u001b[0;31mSyntaxError\u001b[0m\u001b[0;31m:\u001b[0m invalid syntax\n"
          ]
        }
      ]
    },
    {
      "cell_type": "code",
      "source": [
        "name = 'Alice'\n",
        "age = 25\n",
        "address = '''우편번호12345\n",
        "서울시 영등포구 여의도동\n",
        "서울빌딩 501호'''\n",
        "boyfriend = None\n",
        "height = 168.5 \n",
        "\n",
        "print(name)\n",
        "print(age)\n",
        "print(address)\n",
        "print(boyfriend)\n",
        "print(height)"
      ],
      "metadata": {
        "colab": {
          "base_uri": "https://localhost:8080/"
        },
        "id": "Sk7FtWyrJfcH",
        "outputId": "785c34e3-683f-4d06-b372-bb556323ac9e"
      },
      "execution_count": 12,
      "outputs": [
        {
          "output_type": "stream",
          "name": "stdout",
          "text": [
            "Alice\n",
            "25\n",
            "우편번호12345\n",
            "서울시 영등포구 여의도동\n",
            "서울빌딩 501호\n",
            "None\n",
            "168.5\n"
          ]
        }
      ]
    }
  ]
}
