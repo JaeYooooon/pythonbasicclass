{
  "nbformat": 4,
  "nbformat_minor": 0,
  "metadata": {
    "colab": {
      "name": "02HW20220223김재윤19.ipynb",
      "provenance": [],
      "authorship_tag": "ABX9TyMVDhI7bOGz7RVOb31Wq39S",
      "include_colab_link": true
    },
    "kernelspec": {
      "name": "python3",
      "display_name": "Python 3"
    },
    "language_info": {
      "name": "python"
    }
  },
  "cells": [
    {
      "cell_type": "markdown",
      "metadata": {
        "id": "view-in-github",
        "colab_type": "text"
      },
      "source": [
        "<a href=\"https://colab.research.google.com/github/JaeYooooon/pythonbasicclass/blob/main/02HW20220223%EA%B9%80%EC%9E%AC%EC%9C%A419.ipynb\" target=\"_parent\"><img src=\"https://colab.research.google.com/assets/colab-badge.svg\" alt=\"Open In Colab\"/></a>"
      ]
    },
    {
      "cell_type": "code",
      "execution_count": 5,
      "metadata": {
        "colab": {
          "base_uri": "https://localhost:8080/"
        },
        "id": "7c26YkQp6ULN",
        "outputId": "afb1c119-29aa-4264-81f9-b54902ba007d"
      },
      "outputs": [
        {
          "output_type": "stream",
          "name": "stdout",
          "text": [
            "['닥터 스트레인지', '스플릿', '럭키']\n"
          ]
        },
        {
          "output_type": "execute_result",
          "data": {
            "text/plain": [
              "list"
            ]
          },
          "metadata": {},
          "execution_count": 5
        }
      ],
      "source": [
        "# 51\n",
        "movie_rank = ['닥터 스트레인지','스플릿','럭키']\n",
        "print(movie_rank)\n",
        "type(movie_rank)"
      ]
    },
    {
      "cell_type": "code",
      "source": [
        "# 52\n",
        "movie_rank = ['닥터 스트레인지','스플릿','럭키']\n",
        "movie_rank.append('배트맨')\n",
        "print(movie_rank)"
      ],
      "metadata": {
        "colab": {
          "base_uri": "https://localhost:8080/"
        },
        "id": "ZUjaKZz660KX",
        "outputId": "54306e39-f8ee-467a-e716-6d287a099eab"
      },
      "execution_count": 8,
      "outputs": [
        {
          "output_type": "execute_result",
          "data": {
            "text/plain": [
              "['닥터 스트레인지', '스플릿', '럭키', '배트맨']"
            ]
          },
          "metadata": {},
          "execution_count": 8
        }
      ]
    },
    {
      "cell_type": "code",
      "source": [
        "# 53\n",
        "movie_rank = ['닥터 스트레인지','스플릿','럭키','배트맨']\n",
        "movie_rank.insert(1,'슈퍼맨')\n",
        "print(movie_rank)\n"
      ],
      "metadata": {
        "colab": {
          "base_uri": "https://localhost:8080/"
        },
        "id": "lg7-9Tcx7LWi",
        "outputId": "1309e178-0455-4815-85a8-a7c95fecc6cd"
      },
      "execution_count": 14,
      "outputs": [
        {
          "output_type": "stream",
          "name": "stdout",
          "text": [
            "['닥터 스트레인지', '슈퍼맨', '스플릿', '럭키', '배트맨']\n"
          ]
        }
      ]
    },
    {
      "cell_type": "code",
      "source": [
        "# 54\n",
        "movie_rank = ['닥터 스트레인지', '슈퍼맨', '스플릿', '럭키', '배트맨']\n",
        "movie_rank.pop(-2)\n",
        "print(movie_rank)"
      ],
      "metadata": {
        "colab": {
          "base_uri": "https://localhost:8080/"
        },
        "id": "wRnfpwXL77ZA",
        "outputId": "54131bd3-28a1-4f8f-a7ed-30dc66c221bd"
      },
      "execution_count": 17,
      "outputs": [
        {
          "output_type": "stream",
          "name": "stdout",
          "text": [
            "['닥터 스트레인지', '슈퍼맨', '스플릿', '배트맨']\n"
          ]
        }
      ]
    },
    {
      "cell_type": "code",
      "source": [
        "# 55\n",
        "movie_rank = ['닥터 스트레인지', '슈퍼맨', '스플릿', '배트맨']\n",
        "movie_rank.pop()\n",
        "movie_rank.pop(-1)\n",
        "print(movie_rank)"
      ],
      "metadata": {
        "colab": {
          "base_uri": "https://localhost:8080/"
        },
        "id": "p0Agen5y8Kwu",
        "outputId": "6937ecf7-e65d-4ebe-f136-1e5856dfde90"
      },
      "execution_count": 20,
      "outputs": [
        {
          "output_type": "stream",
          "name": "stdout",
          "text": [
            "['닥터 스트레인지', '슈퍼맨']\n"
          ]
        }
      ]
    },
    {
      "cell_type": "code",
      "source": [
        "# 56\n",
        "lang  = [\"C\",\"C++\",\"JAVA\"]\n",
        "lang2 = [\"Python\",\"Go\",\"C#\"]\n",
        "langs = (lang+lang2)\n",
        "print(langs)"
      ],
      "metadata": {
        "colab": {
          "base_uri": "https://localhost:8080/"
        },
        "id": "mziN2Fmb8fm2",
        "outputId": "ed2af8bb-47b9-4f97-ee24-5a5c138a6ebf"
      },
      "execution_count": 23,
      "outputs": [
        {
          "output_type": "stream",
          "name": "stdout",
          "text": [
            "['C', 'C++', 'JAVA', 'Python', 'Go', 'C#']\n"
          ]
        }
      ]
    },
    {
      "cell_type": "code",
      "source": [
        "# 57\n",
        "nums = [1, 2, 3, 4, 5, 6, 7]\n",
        "\n",
        "print(f'max: {max}')\n",
        "print(f'min: {min}')"
      ],
      "metadata": {
        "colab": {
          "base_uri": "https://localhost:8080/"
        },
        "id": "M_PKd5E79KDi",
        "outputId": "3037b917-d7e1-48f1-86f4-f2335dab70ab"
      },
      "execution_count": 33,
      "outputs": [
        {
          "output_type": "stream",
          "name": "stdout",
          "text": [
            "max: 7\n",
            "min: 1\n"
          ]
        }
      ]
    },
    {
      "cell_type": "code",
      "source": [
        "# 58\n",
        "nums = [1, 2, 3, 4, 5]\n",
        "print(nums[0]+nums[1]+nums[2]+nums[3]+nums[4])\n",
        "\n",
        "nums = [1, 2, 3, 4, 5]\n",
        "print(sum(nums))"
      ],
      "metadata": {
        "colab": {
          "base_uri": "https://localhost:8080/"
        },
        "id": "0kDm0uJZ928W",
        "outputId": "3e4eaa1b-94fd-4cab-cc67-c6d64e54913d"
      },
      "execution_count": 101,
      "outputs": [
        {
          "output_type": "stream",
          "name": "stdout",
          "text": [
            "15\n",
            "15\n"
          ]
        }
      ]
    },
    {
      "cell_type": "code",
      "source": [
        "# 59\n",
        "cook = [\"피자\",\"김밥\",\"만두\",\"양념치킨\",\"족발\",\"피자\",\"김치만두\",\"쫄면\",\"쏘세지\",\"라면\",\"팥빙수\",\"김치전\"]\n",
        "len(cook)"
      ],
      "metadata": {
        "colab": {
          "base_uri": "https://localhost:8080/"
        },
        "id": "hBV4COff-bYr",
        "outputId": "dad828f0-bc44-4a2e-e684-3d15e68c05b9"
      },
      "execution_count": 42,
      "outputs": [
        {
          "output_type": "execute_result",
          "data": {
            "text/plain": [
              "12"
            ]
          },
          "metadata": {},
          "execution_count": 42
        }
      ]
    },
    {
      "cell_type": "code",
      "source": [
        "# 60\n",
        "nums = [1, 2, 3, 4, 5]\n",
        "float(nums[len(nums)//2])"
      ],
      "metadata": {
        "colab": {
          "base_uri": "https://localhost:8080/"
        },
        "id": "1_IhBjeE-4Un",
        "outputId": "e26d5f0d-65eb-4b44-e8ff-60c50ccd2005"
      },
      "execution_count": 41,
      "outputs": [
        {
          "output_type": "execute_result",
          "data": {
            "text/plain": [
              "3.0"
            ]
          },
          "metadata": {},
          "execution_count": 41
        }
      ]
    },
    {
      "cell_type": "code",
      "source": [
        "# 121\n",
        "word = input('>>')\n",
        "if word.islower():\n",
        "  print(word.upper())\n",
        "else:\n",
        "  print(word(lower))\n",
        "\n"
      ],
      "metadata": {
        "colab": {
          "base_uri": "https://localhost:8080/"
        },
        "id": "PFqOtuPd_b9A",
        "outputId": "e59098e9-da82-4c60-e7a2-ffaa193e0db8"
      },
      "execution_count": 57,
      "outputs": [
        {
          "output_type": "stream",
          "name": "stdout",
          "text": [
            ">>a\n",
            "A\n"
          ]
        }
      ]
    },
    {
      "cell_type": "code",
      "source": [
        "# 122\n",
        "score = int(input('>> score: '))\n",
        "if score>80:\n",
        "  print('grade is A')\n",
        "elif score>60:\n",
        "    print('grade is B')\n",
        "elif score>40:\n",
        "    print('grade is C')\n",
        "elif score>20:\n",
        "      print('grade is D')\n",
        "else:\n",
        "  print('grade is E')"
      ],
      "metadata": {
        "colab": {
          "base_uri": "https://localhost:8080/"
        },
        "id": "4_i6qkqzAOyq",
        "outputId": "021ed0b5-79a8-4e30-a457-9eed88c90185"
      },
      "execution_count": 53,
      "outputs": [
        {
          "output_type": "stream",
          "name": "stdout",
          "text": [
            ">> score: 83\n",
            "grade is A\n"
          ]
        }
      ]
    },
    {
      "cell_type": "code",
      "source": [
        "# 123\n",
        "data = input('>>입력: ')\n",
        "a = data.split()\n",
        "b,c = a # b = 100 , c = 달러\n",
        "b = float(b)\n",
        "if c == '달러':\n",
        "  print(b*1167,'원')\n",
        "elif c == '엔':\n",
        "  print(b*1.096,'원')\n",
        "elif c == '유로':\n",
        "  print(b*1268,'원')\n",
        "else:\n",
        "  print(b*171,'원')    "
      ],
      "metadata": {
        "colab": {
          "base_uri": "https://localhost:8080/"
        },
        "id": "URuHd_qPBg_h",
        "outputId": "641c8a12-a40b-478a-ec86-8f91c13a67c8"
      },
      "execution_count": 67,
      "outputs": [
        {
          "output_type": "stream",
          "name": "stdout",
          "text": [
            ">>입력: 100 달러\n",
            "116700.0 원\n"
          ]
        }
      ]
    },
    {
      "cell_type": "code",
      "source": [
        "# 124\n",
        "a = int(input('>> input number1: '))\n",
        "b = int(input('>> input number2: '))\n",
        "c = int(input('>> input number3: '))\n",
        "if a>b and a>c:\n",
        "  print(a)\n",
        "elif b>c and b>a:\n",
        "  print(b)\n",
        "else:\n",
        "  print(c)"
      ],
      "metadata": {
        "colab": {
          "base_uri": "https://localhost:8080/"
        },
        "id": "vM9_X-pQYTb7",
        "outputId": "e63c16ea-28c2-4231-853c-a2eafa0fe300"
      },
      "execution_count": 69,
      "outputs": [
        {
          "output_type": "stream",
          "name": "stdout",
          "text": [
            ">> input number1: 10\n",
            ">> input number2: 9\n",
            ">> input number3: 20\n",
            "20\n"
          ]
        }
      ]
    },
    {
      "cell_type": "code",
      "source": [
        "# 125\n",
        "num = input('>> 휴대전화 번호 입력: ')\n",
        "num_3=num.split(\"-\")[0]\n",
        "if num_3 == \"011\":\n",
        "  print(f'당신은 SKT사용자 입니다.')\n",
        "elif num_3 == \"016\":\n",
        "  print(f'당신은 KT사용자 입니다.')\n",
        "elif num_3 == \"019\":\n",
        "  print(f'당신은 LGU사용자 입니다.')\n",
        "else:\n",
        "  print(f'알수없음')"
      ],
      "metadata": {
        "colab": {
          "base_uri": "https://localhost:8080/"
        },
        "id": "t0Obkno6YzuF",
        "outputId": "d9eb8e96-07d3-4cf6-cc0d-2ef45624902d"
      },
      "execution_count": 79,
      "outputs": [
        {
          "output_type": "stream",
          "name": "stdout",
          "text": [
            ">> 휴대전화 번호 입력: 011-345-1283\n",
            "당신은 SKT사용자 입니다.\n"
          ]
        }
      ]
    },
    {
      "cell_type": "code",
      "source": [
        "# 125\n",
        "num = input('>> 휴대전화 번호 입력: ')\n",
        "num_3=num[:3]\n",
        "if num_3 == \"011\":\n",
        "  print(f'당신은 SKT사용자 입니다.')\n",
        "elif num_3 == \"016\":\n",
        "  print(f'당신은 KT사용자 입니다.')\n",
        "elif num_3 == \"019\":\n",
        "  print(f'당신은 LGU사용자 입니다.')\n",
        "else:\n",
        "  print(f'알수없음')"
      ],
      "metadata": {
        "colab": {
          "base_uri": "https://localhost:8080/"
        },
        "id": "V1Fk0zRYabTh",
        "outputId": "338f4cfd-8842-4833-a97b-33ee1aab07e5"
      },
      "execution_count": 80,
      "outputs": [
        {
          "output_type": "stream",
          "name": "stdout",
          "text": [
            ">> 휴대전화 번호 입력: 011-123-123\n",
            "당신은 SKT사용자 입니다.\n"
          ]
        }
      ]
    },
    {
      "cell_type": "code",
      "source": [
        "# 126\n",
        "우편번호 = input('>> 우편번호 : ')\n",
        "우편번호 = 우편번호[:3]\n",
        "if 우편번호 in ['010','011','012']:\n",
        "  print('강북구')\n",
        "elif 우편번호 in ['013','014','015']:\n",
        "  print('도봉구')\n",
        "else:\n",
        "  print('노원구')    "
      ],
      "metadata": {
        "colab": {
          "base_uri": "https://localhost:8080/"
        },
        "id": "ol0jlPljalB4",
        "outputId": "31ae9156-1e49-4d26-db72-db399406a4a8"
      },
      "execution_count": 82,
      "outputs": [
        {
          "output_type": "stream",
          "name": "stdout",
          "text": [
            ">> 우편번호 : 01400\n",
            "도봉구\n"
          ]
        }
      ]
    },
    {
      "cell_type": "code",
      "source": [
        "# 127 \n",
        "주민 = input('>> 주민등록번호 : ')\n",
        "주민 = 주민[7]\n",
        "if 주민 == 1 or 3:\n",
        "  print('남자')\n",
        "else:\n",
        "  print('여자')"
      ],
      "metadata": {
        "colab": {
          "base_uri": "https://localhost:8080/"
        },
        "id": "dtT9SyE8dHGZ",
        "outputId": "c5f7ffda-951a-4072-afac-671b815f5b8f"
      },
      "execution_count": 86,
      "outputs": [
        {
          "output_type": "stream",
          "name": "stdout",
          "text": [
            ">> 주민등록번호 : 981222-1171512\n",
            "남자\n"
          ]
        }
      ]
    },
    {
      "cell_type": "code",
      "source": [
        "# 128\n",
        "주민 = input('>> 주민등록번호 : ')\n",
        "뒷자리 =  주민.split('-')[1]\n",
        "if int(뒷자리[1:3])<=8:\n",
        "  print('서울 입니다.')\n",
        "else:\n",
        "  print('서울이 아닙니다.')\n"
      ],
      "metadata": {
        "colab": {
          "base_uri": "https://localhost:8080/"
        },
        "id": "TQcIPFKFdwmb",
        "outputId": "e6a4eb80-9129-4948-92e7-e5f0ea955c89"
      },
      "execution_count": 89,
      "outputs": [
        {
          "output_type": "stream",
          "name": "stdout",
          "text": [
            ">> 주민등록번호 : 821010-1635210\n",
            "서울이 아닙니다.\n"
          ]
        }
      ]
    },
    {
      "cell_type": "code",
      "source": [
        "# 129\n",
        "num = input(\"주민등록번호: \")\n",
        "result = int(num[0])*2+int(num[1])*3+int(num[2])*4+int(num[3])*5+int(num[4])*6+int(num[5])*7+int(num[7])*8+int(num[8])*9+int(num[9])*2+int(num[10])*3+int(num[11])*4+int(num[12])*5\n",
        "나머지 = 11-result%11\n",
        "나머지 = str(나머지)\n",
        "if num[-1] == 나머지:\n",
        "  print(\"유효한 주민등록번호입니다.\")\n",
        "else:\n",
        "  print(\"유효하지 않은 주민등록번호입니다.\")"
      ],
      "metadata": {
        "colab": {
          "base_uri": "https://localhost:8080/"
        },
        "id": "1tfnQF7pe4E6",
        "outputId": "a1f9b3a3-a7aa-4443-bb69-ada24b3f6144"
      },
      "execution_count": 100,
      "outputs": [
        {
          "output_type": "stream",
          "name": "stdout",
          "text": [
            "주민등록번호: 821010-1635210\n",
            "유효하지 않은 주민등록번호입니다.\n"
          ]
        }
      ]
    },
    {
      "cell_type": "code",
      "source": [
        "# 130\n",
        "import requests\n",
        "btc = requests.get(\"https://api.bithumb.com/public/ticker/\").json()['data']\n",
        "\n",
        "'''\n",
        "opening_price\t최근 24시간 내 시작 거래금액   : 시가\n",
        "closing_price\t최근 24시간 내 마지막 거래금액 : 종가\n",
        "min_price\t최근 24시간 내 최저 거래금액       : 최저가\n",
        "max_price\t최근 24시간 내 최고 거래금액       : 최고가\n",
        "'''\n",
        "변동폭 = float(btc['max_price']) - float(btc['min_price'])\n",
        "시가 = float(btc['opening_price'])\n",
        "최고가 = float(btc['max_price'])\n",
        "\n",
        "if (시가+변동폭) > 최고가:\n",
        "    print(\"상승장\")\n",
        "else:\n",
        "    print(\"하락장\")"
      ],
      "metadata": {
        "colab": {
          "base_uri": "https://localhost:8080/"
        },
        "id": "NcOveZ4MiZUg",
        "outputId": "5e3513d9-cf91-457b-b58c-2eb8eca6dc6e"
      },
      "execution_count": 103,
      "outputs": [
        {
          "output_type": "stream",
          "name": "stdout",
          "text": [
            "상승장\n"
          ]
        }
      ]
    }
  ]
}