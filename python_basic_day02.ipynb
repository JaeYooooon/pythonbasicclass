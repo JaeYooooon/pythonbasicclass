{
  "nbformat": 4,
  "nbformat_minor": 0,
  "metadata": {
    "colab": {
      "name": "python basic day2",
      "provenance": [],
      "collapsed_sections": [],
      "authorship_tag": "ABX9TyOcRKv0qEwm4I3zuS+8+v8n",
      "include_colab_link": true
    },
    "kernelspec": {
      "name": "python3",
      "display_name": "Python 3"
    },
    "language_info": {
      "name": "python"
    }
  },
  "cells": [
    {
      "cell_type": "markdown",
      "metadata": {
        "id": "view-in-github",
        "colab_type": "text"
      },
      "source": [
        "<a href=\"https://colab.research.google.com/github/JaeYooooon/pythonbasicclass/blob/main/python_basic_day2.ipynb\" target=\"_parent\"><img src=\"https://colab.research.google.com/assets/colab-badge.svg\" alt=\"Open In Colab\"/></a>"
      ]
    },
    {
      "cell_type": "code",
      "execution_count": null,
      "metadata": {
        "id": "fMDT_CEtvyEp"
      },
      "outputs": [],
      "source": [
        "# 3 기본 자료형(page 33)\n",
        "\n",
        "int 정수 1,2,3,4\n",
        "float 실수 3.14, 2.18\n",
        "bool 논리 True, False\n",
        "str 문자열 '홍길동','슈가'\n",
        "\n",
        "\n",
        "\n"
      ]
    },
    {
      "cell_type": "code",
      "source": [
        "# 1. 정수 int\n",
        "\n",
        "int(1.9)"
      ],
      "metadata": {
        "colab": {
          "base_uri": "https://localhost:8080/"
        },
        "id": "MvOn6k1BxZsc",
        "outputId": "b357e38e-0f98-47f1-9fdd-fa8477b54453"
      },
      "execution_count": 2,
      "outputs": [
        {
          "output_type": "execute_result",
          "data": {
            "text/plain": [
              "1"
            ]
          },
          "metadata": {},
          "execution_count": 2
        }
      ]
    },
    {
      "cell_type": "code",
      "source": [
        "int(True)"
      ],
      "metadata": {
        "colab": {
          "base_uri": "https://localhost:8080/"
        },
        "id": "FvjjHtDFx8AR",
        "outputId": "72217149-bc41-457e-d065-45b2a5355b81"
      },
      "execution_count": 3,
      "outputs": [
        {
          "output_type": "execute_result",
          "data": {
            "text/plain": [
              "1"
            ]
          },
          "metadata": {},
          "execution_count": 3
        }
      ]
    },
    {
      "cell_type": "code",
      "source": [
        "int(False)"
      ],
      "metadata": {
        "colab": {
          "base_uri": "https://localhost:8080/"
        },
        "id": "gMskVqj4x9-T",
        "outputId": "b86fa350-2474-45d2-a1bf-5e29e0aca3ac"
      },
      "execution_count": 4,
      "outputs": [
        {
          "output_type": "execute_result",
          "data": {
            "text/plain": [
              "0"
            ]
          },
          "metadata": {},
          "execution_count": 4
        }
      ]
    },
    {
      "cell_type": "code",
      "source": [
        "int('100')\n",
        "int('200')\n",
        "# 큰 따옴표 또는 작은 따옴표 안에 있는 숫자는 숫자처럼 보이지만 문자다.\n",
        "# int () 괄호안에 숫자 처럼 보이는 문자를 넣어주면 진짜 숫자로 변환된다."
      ],
      "metadata": {
        "colab": {
          "base_uri": "https://localhost:8080/"
        },
        "id": "0chCF5uTyNX7",
        "outputId": "aa13f999-3e4a-4f61-8fe9-6d075faaf701"
      },
      "execution_count": 5,
      "outputs": [
        {
          "output_type": "execute_result",
          "data": {
            "text/plain": [
              "100"
            ]
          },
          "metadata": {},
          "execution_count": 5
        }
      ]
    },
    {
      "cell_type": "code",
      "source": [
        "# 2. 실수 float"
      ],
      "metadata": {
        "id": "jDFA2kCIybas"
      },
      "execution_count": null,
      "outputs": []
    },
    {
      "cell_type": "code",
      "source": [
        "float(1)"
      ],
      "metadata": {
        "colab": {
          "base_uri": "https://localhost:8080/"
        },
        "id": "GvRHKFSnyy0g",
        "outputId": "57a16fbc-ba13-4c36-98ad-aba36814995d"
      },
      "execution_count": 6,
      "outputs": [
        {
          "output_type": "execute_result",
          "data": {
            "text/plain": [
              "1.0"
            ]
          },
          "metadata": {},
          "execution_count": 6
        }
      ]
    },
    {
      "cell_type": "code",
      "source": [
        "float(True)"
      ],
      "metadata": {
        "colab": {
          "base_uri": "https://localhost:8080/"
        },
        "id": "NkMYvZrby3Rt",
        "outputId": "3a2d4575-4dbc-44a2-e042-7fc702dd5437"
      },
      "execution_count": 7,
      "outputs": [
        {
          "output_type": "execute_result",
          "data": {
            "text/plain": [
              "1.0"
            ]
          },
          "metadata": {},
          "execution_count": 7
        }
      ]
    },
    {
      "cell_type": "code",
      "source": [
        "float(False)"
      ],
      "metadata": {
        "colab": {
          "base_uri": "https://localhost:8080/"
        },
        "id": "KO5cEQEcy5Wg",
        "outputId": "fcb25e76-1ecb-446e-b619-aaf31c13dd2f"
      },
      "execution_count": 8,
      "outputs": [
        {
          "output_type": "execute_result",
          "data": {
            "text/plain": [
              "0.0"
            ]
          },
          "metadata": {},
          "execution_count": 8
        }
      ]
    },
    {
      "cell_type": "code",
      "source": [
        "float('3.14')"
      ],
      "metadata": {
        "colab": {
          "base_uri": "https://localhost:8080/"
        },
        "id": "yiprn2Shy99f",
        "outputId": "fe5bb792-9086-4a25-b8d7-60fa02aff3c8"
      },
      "execution_count": 9,
      "outputs": [
        {
          "output_type": "execute_result",
          "data": {
            "text/plain": [
              "3.14"
            ]
          },
          "metadata": {},
          "execution_count": 9
        }
      ]
    },
    {
      "cell_type": "code",
      "source": [
        "input('숫자를 입력하세요>>>') #input 은 모든 입력을 문자로만 받는다."
      ],
      "metadata": {
        "colab": {
          "base_uri": "https://localhost:8080/",
          "height": 54
        },
        "id": "Q3bm8fBVzEmI",
        "outputId": "0d476687-fd87-4019-d1f7-7659260a9642"
      },
      "execution_count": 10,
      "outputs": [
        {
          "name": "stdout",
          "output_type": "stream",
          "text": [
            "숫자를 입력하세요>>>123\n"
          ]
        },
        {
          "output_type": "execute_result",
          "data": {
            "application/vnd.google.colaboratory.intrinsic+json": {
              "type": "string"
            },
            "text/plain": [
              "'123'"
            ]
          },
          "metadata": {},
          "execution_count": 10
        }
      ]
    },
    {
      "cell_type": "code",
      "source": [
        "int(input('숫자를 입력하세요>>>'))"
      ],
      "metadata": {
        "colab": {
          "base_uri": "https://localhost:8080/"
        },
        "id": "AICLx4PSzfp7",
        "outputId": "12418a65-9367-463d-ce9c-ef14386e990b"
      },
      "execution_count": 11,
      "outputs": [
        {
          "name": "stdout",
          "output_type": "stream",
          "text": [
            "숫자를 입력하세요>>>123\n"
          ]
        },
        {
          "output_type": "execute_result",
          "data": {
            "text/plain": [
              "123"
            ]
          },
          "metadata": {},
          "execution_count": 11
        }
      ]
    },
    {
      "cell_type": "code",
      "source": [
        "# 논리 bool, boolean True or False\n",
        "bool(0)"
      ],
      "metadata": {
        "colab": {
          "base_uri": "https://localhost:8080/"
        },
        "id": "kQgIUXfGz6Bx",
        "outputId": "d1d34355-4d95-4ee4-ceec-09563f07452c"
      },
      "execution_count": 12,
      "outputs": [
        {
          "output_type": "execute_result",
          "data": {
            "text/plain": [
              "False"
            ]
          },
          "metadata": {},
          "execution_count": 12
        }
      ]
    },
    {
      "cell_type": "code",
      "source": [
        "bool(1)"
      ],
      "metadata": {
        "colab": {
          "base_uri": "https://localhost:8080/"
        },
        "id": "4KcQTxRV0ET3",
        "outputId": "a264b424-b3d8-488f-c35c-4b366d05ecb4"
      },
      "execution_count": 13,
      "outputs": [
        {
          "output_type": "execute_result",
          "data": {
            "text/plain": [
              "True"
            ]
          },
          "metadata": {},
          "execution_count": 13
        }
      ]
    },
    {
      "cell_type": "code",
      "source": [
        "bool('')"
      ],
      "metadata": {
        "colab": {
          "base_uri": "https://localhost:8080/"
        },
        "id": "pCNrCjJe0GJu",
        "outputId": "ae5e009c-44ae-4b72-828f-267bb6c16a0d"
      },
      "execution_count": 14,
      "outputs": [
        {
          "output_type": "execute_result",
          "data": {
            "text/plain": [
              "False"
            ]
          },
          "metadata": {},
          "execution_count": 14
        }
      ]
    },
    {
      "cell_type": "code",
      "source": [
        "bool('a')"
      ],
      "metadata": {
        "colab": {
          "base_uri": "https://localhost:8080/"
        },
        "id": "_qeyEa180Iuj",
        "outputId": "60298618-e0eb-4c32-b3cd-f3ae9da7be88"
      },
      "execution_count": 15,
      "outputs": [
        {
          "output_type": "execute_result",
          "data": {
            "text/plain": [
              "True"
            ]
          },
          "metadata": {},
          "execution_count": 15
        }
      ]
    },
    {
      "cell_type": "code",
      "source": [
        "bool([1,2,3])"
      ],
      "metadata": {
        "colab": {
          "base_uri": "https://localhost:8080/"
        },
        "id": "IDj5QwYY0LHM",
        "outputId": "ba24aa2f-1f8e-4770-c6cb-7455afe102e5"
      },
      "execution_count": 17,
      "outputs": [
        {
          "output_type": "execute_result",
          "data": {
            "text/plain": [
              "True"
            ]
          },
          "metadata": {},
          "execution_count": 17
        }
      ]
    },
    {
      "cell_type": "code",
      "source": [
        "# 4. 문자열 str, string\n",
        "\n",
        "a = '한국'\n",
        "b = \"한국\"\n",
        "\n",
        "a = '''대한\n",
        "민국'''\n",
        "b = \"\"\"대한\n",
        "민국\"\"\"\n",
        "print(a)"
      ],
      "metadata": {
        "colab": {
          "base_uri": "https://localhost:8080/"
        },
        "id": "mvhWqQZd0hIi",
        "outputId": "01d122bc-5dc6-47d0-f5ba-313b503e4d95"
      },
      "execution_count": 20,
      "outputs": [
        {
          "output_type": "stream",
          "name": "stdout",
          "text": [
            "대한\n",
            "민국\n"
          ]
        }
      ]
    },
    {
      "cell_type": "code",
      "source": [
        "str(100)"
      ],
      "metadata": {
        "colab": {
          "base_uri": "https://localhost:8080/",
          "height": 35
        },
        "id": "s3UxjGtf1FHE",
        "outputId": "b441610e-21df-4faf-b025-c676cf11fcfc"
      },
      "execution_count": 21,
      "outputs": [
        {
          "output_type": "execute_result",
          "data": {
            "application/vnd.google.colaboratory.intrinsic+json": {
              "type": "string"
            },
            "text/plain": [
              "'100'"
            ]
          },
          "metadata": {},
          "execution_count": 21
        }
      ]
    },
    {
      "cell_type": "code",
      "source": [
        "str(True)"
      ],
      "metadata": {
        "colab": {
          "base_uri": "https://localhost:8080/",
          "height": 35
        },
        "id": "CT3nvR-81GYD",
        "outputId": "afb33b5a-2559-4006-e1c3-022a5a5f6934"
      },
      "execution_count": 22,
      "outputs": [
        {
          "output_type": "execute_result",
          "data": {
            "application/vnd.google.colaboratory.intrinsic+json": {
              "type": "string"
            },
            "text/plain": [
              "'True'"
            ]
          },
          "metadata": {},
          "execution_count": 22
        }
      ]
    },
    {
      "cell_type": "code",
      "source": [
        "str(False)"
      ],
      "metadata": {
        "colab": {
          "base_uri": "https://localhost:8080/",
          "height": 35
        },
        "id": "JTU09M4G1Hh9",
        "outputId": "36cabbee-a244-4511-e8a5-ee291230cb5a"
      },
      "execution_count": 23,
      "outputs": [
        {
          "output_type": "execute_result",
          "data": {
            "application/vnd.google.colaboratory.intrinsic+json": {
              "type": "string"
            },
            "text/plain": [
              "'False'"
            ]
          },
          "metadata": {},
          "execution_count": 23
        }
      ]
    },
    {
      "cell_type": "code",
      "source": [
        "str(3.14)"
      ],
      "metadata": {
        "colab": {
          "base_uri": "https://localhost:8080/",
          "height": 35
        },
        "id": "2eu8fpfV1PQz",
        "outputId": "f04d1665-f56d-4029-c89b-7556c95d55ba"
      },
      "execution_count": 24,
      "outputs": [
        {
          "output_type": "execute_result",
          "data": {
            "application/vnd.google.colaboratory.intrinsic+json": {
              "type": "string"
            },
            "text/plain": [
              "'3.14'"
            ]
          },
          "metadata": {},
          "execution_count": 24
        }
      ]
    },
    {
      "cell_type": "code",
      "source": [
        "# 문자열 인덱싱 (indexing)\n",
        "# 인덱싱은 문자열을 구성하는 모든 문자에 부여한 고유의 번호이다.\n",
        "\n",
        "s = 'hello'\n",
        "print(s[2]) # 인덱스의 시작은 0이다.\n",
        "# h e l l o\n",
        "# 0 1 2 3 4 각 문자의 인덱스 번호 \n",
        "\n"
      ],
      "metadata": {
        "colab": {
          "base_uri": "https://localhost:8080/"
        },
        "id": "J-KXJBvR1Q2T",
        "outputId": "d79aded1-a1c6-4505-8a85-e23173d4d36e"
      },
      "execution_count": 27,
      "outputs": [
        {
          "output_type": "stream",
          "name": "stdout",
          "text": [
            "l\n"
          ]
        }
      ]
    },
    {
      "cell_type": "code",
      "source": [
        "# h e l l o\n",
        "#         -1\n",
        "s = 'hello'\n",
        "print(s[-1])\n",
        "\n",
        "#  h  e  l  l  o\n",
        "# -5 -4 -3 -2 -1"
      ],
      "metadata": {
        "colab": {
          "base_uri": "https://localhost:8080/"
        },
        "id": "WYl4KGMcLEl5",
        "outputId": "2355bb93-5740-468c-9a97-1264a827530b"
      },
      "execution_count": 28,
      "outputs": [
        {
          "output_type": "stream",
          "name": "stdout",
          "text": [
            "o\n"
          ]
        }
      ]
    },
    {
      "cell_type": "code",
      "source": [
        "# 문자열 스라이싱 slicing\n",
        "# 문자열의 인덱스를 사용하여 한문자 이상으로 구성된 단어나 문장을 추출\n",
        "\n",
        "s = 'banana'\n",
        "s[0:3]    #[start:stop]  # stop 은 까지가 아닌 미만으로 계산한다."
      ],
      "metadata": {
        "colab": {
          "base_uri": "https://localhost:8080/",
          "height": 35
        },
        "id": "JqTf2LnALxP1",
        "outputId": "0b8b9d8d-5a5c-4e52-ce61-6010db404c52"
      },
      "execution_count": 35,
      "outputs": [
        {
          "output_type": "execute_result",
          "data": {
            "application/vnd.google.colaboratory.intrinsic+json": {
              "type": "string"
            },
            "text/plain": [
              "'ban'"
            ]
          },
          "metadata": {},
          "execution_count": 35
        }
      ]
    },
    {
      "cell_type": "code",
      "source": [
        "addr = '서울시 강남구 역삼동 1번지'\n",
        "print(addr[4:7])"
      ],
      "metadata": {
        "colab": {
          "base_uri": "https://localhost:8080/"
        },
        "id": "vm68L4tMMMWV",
        "outputId": "1293951b-8aba-4a14-8466-5becad8190e0"
      },
      "execution_count": 34,
      "outputs": [
        {
          "output_type": "stream",
          "name": "stdout",
          "text": [
            "강남구\n"
          ]
        }
      ]
    },
    {
      "cell_type": "code",
      "source": [
        "# 04 컬렉션 Collection\n",
        "# '여러 값을 하나의 이름으로 묶어서 관리하는 자료형'\n",
        "# '리스트 list 튜플 tuple 딕셔너리 dict 셋 set\n"
      ],
      "metadata": {
        "id": "qUUZ9lqyMySP"
      },
      "execution_count": null,
      "outputs": []
    },
    {
      "cell_type": "code",
      "source": [
        "# 리스트 list\n",
        "# 리스트는 여러 값을 저장할때 가장 많이 사용되는 자료형이다.\n",
        "# 특징\n",
        "# 1. 대괄호로 생성한다. []\n",
        "# 2. 여러가지 자료형을 하나의 리스트로 생성할 수 있다.\n",
        "# 3. mutable 한 속성을 갖는다. (수정, 삭제가 가능하다)\n",
        "# 4. indexing, slcing 이 가능하다."
      ],
      "metadata": {
        "id": "mvgrJn1eNKVz"
      },
      "execution_count": null,
      "outputs": []
    },
    {
      "cell_type": "code",
      "source": [
        "list1 = [1,2,3,4]\n",
        "list2 = [1,2,3,'대','한',True]\n",
        "print(list2)"
      ],
      "metadata": {
        "colab": {
          "base_uri": "https://localhost:8080/"
        },
        "id": "_T29TF9RNRoG",
        "outputId": "7b7dd654-750e-44bd-9dfe-b35783b7d71b"
      },
      "execution_count": 37,
      "outputs": [
        {
          "output_type": "stream",
          "name": "stdout",
          "text": [
            "[1, 2, 3, '대', '한', True]\n"
          ]
        }
      ]
    },
    {
      "cell_type": "code",
      "source": [
        "li = [100, 3.14, 'hello']\n",
        "\n",
        "li[1]\n",
        "\n",
        "li[0:2]"
      ],
      "metadata": {
        "colab": {
          "base_uri": "https://localhost:8080/"
        },
        "id": "KFYMgGexOZ_j",
        "outputId": "e7f24ef9-d1fb-4677-9362-2a5d236e05d8"
      },
      "execution_count": 45,
      "outputs": [
        {
          "output_type": "execute_result",
          "data": {
            "text/plain": [
              "[100, 3.14]"
            ]
          },
          "metadata": {},
          "execution_count": 45
        }
      ]
    },
    {
      "cell_type": "code",
      "source": [
        "# append() - 리스트에 데이터를 추가\n",
        "scores = [50,40,30]\n",
        "scores.append(100)  \n",
        "scores"
      ],
      "metadata": {
        "colab": {
          "base_uri": "https://localhost:8080/"
        },
        "id": "Gf8iWnNnQhDT",
        "outputId": "0c8eab4e-5383-48f6-81a9-3d4b129bbfeb"
      },
      "execution_count": 52,
      "outputs": [
        {
          "output_type": "execute_result",
          "data": {
            "text/plain": [
              "[50, 40, 30, 100]"
            ]
          },
          "metadata": {},
          "execution_count": 52
        }
      ]
    },
    {
      "cell_type": "code",
      "source": [
        "# insert() - 리스트에 데이터를 추가\n",
        "scores.insert(0,90) # 특정위치에 데이터를 추가\n",
        "scores"
      ],
      "metadata": {
        "colab": {
          "base_uri": "https://localhost:8080/"
        },
        "id": "9qvGS-49Qqn5",
        "outputId": "aec00b6e-4065-4911-9153-b4cd7724547b"
      },
      "execution_count": 54,
      "outputs": [
        {
          "output_type": "execute_result",
          "data": {
            "text/plain": [
              "[90, 50, 40, 30, 100]"
            ]
          },
          "metadata": {},
          "execution_count": 54
        }
      ]
    },
    {
      "cell_type": "code",
      "source": [
        "# pop() - 리스트에서 데이터 삭제\n",
        "scores = [30,40,50]\n",
        "scores.pop()\n",
        "scores"
      ],
      "metadata": {
        "colab": {
          "base_uri": "https://localhost:8080/"
        },
        "id": "BpyAED8wQ63f",
        "outputId": "c129478b-5496-4660-c5d1-45bc30d96566"
      },
      "execution_count": 66,
      "outputs": [
        {
          "output_type": "execute_result",
          "data": {
            "text/plain": [
              "[30, 40]"
            ]
          },
          "metadata": {},
          "execution_count": 66
        }
      ]
    },
    {
      "cell_type": "code",
      "source": [
        "scores.pop(0)\n",
        "scores"
      ],
      "metadata": {
        "colab": {
          "base_uri": "https://localhost:8080/"
        },
        "id": "gSDzpuOritNb",
        "outputId": "24842d92-268e-4eb1-c81f-c37a8a29f099"
      },
      "execution_count": 67,
      "outputs": [
        {
          "output_type": "execute_result",
          "data": {
            "text/plain": [
              "[40]"
            ]
          },
          "metadata": {},
          "execution_count": 67
        }
      ]
    },
    {
      "cell_type": "code",
      "source": [
        "# 튜플  tuple\n",
        "# 저장된 값을 변경할 수 없는 리스트\n",
        "\n",
        "# 특징\n",
        "# 1. 소괄호로 생성한다 () 튜플은 괄호 생략 가능\n",
        "# 2. 여러가지 자료형을 하나의 튜플로 생성할 수 있다. \n",
        "# 3. immutable 한 속성을 갖는다 ( 수정 삭제 불가능. )\n",
        "# 4. indexing, slicing 이 가능하다.\n",
        "# 5. 1개의 원소를 갖는 튜플을 생성할때는 , 쉼표를 붙힌다.\n",
        "\n",
        "li = [1]\n",
        "print(li)\n",
        "print(type(li))"
      ],
      "metadata": {
        "colab": {
          "base_uri": "https://localhost:8080/"
        },
        "id": "BdR7FBwKizYX",
        "outputId": "0164e9cd-3dac-40ee-d278-fce666b9f404"
      },
      "execution_count": 71,
      "outputs": [
        {
          "output_type": "stream",
          "name": "stdout",
          "text": [
            "[1]\n",
            "<class 'list'>\n"
          ]
        }
      ]
    },
    {
      "cell_type": "code",
      "source": [
        "\n",
        "#tu = (1)\n",
        "#print(tu)\n",
        "#print(type(tu))\n",
        "\n",
        "tu = (1,)\n",
        "print(tu)\n",
        "print(type(tu))"
      ],
      "metadata": {
        "colab": {
          "base_uri": "https://localhost:8080/"
        },
        "id": "I9Y8OUFJj19s",
        "outputId": "b94d2aee-86ff-43b1-9565-d076bcf40a24"
      },
      "execution_count": 73,
      "outputs": [
        {
          "output_type": "stream",
          "name": "stdout",
          "text": [
            "(1,)\n",
            "<class 'tuple'>\n"
          ]
        }
      ]
    },
    {
      "cell_type": "code",
      "source": [
        "tu = 1,2,3,4,5\n",
        "tu[0]"
      ],
      "metadata": {
        "colab": {
          "base_uri": "https://localhost:8080/"
        },
        "id": "r4o1SKLfkWi_",
        "outputId": "18ad3cb6-ef94-46e6-8b98-d3b959277b61"
      },
      "execution_count": 74,
      "outputs": [
        {
          "output_type": "execute_result",
          "data": {
            "text/plain": [
              "1"
            ]
          },
          "metadata": {},
          "execution_count": 74
        }
      ]
    },
    {
      "cell_type": "code",
      "source": [
        "tu[0:3]"
      ],
      "metadata": {
        "colab": {
          "base_uri": "https://localhost:8080/"
        },
        "id": "5h-pD2WDkzTU",
        "outputId": "741ecd66-da75-4e5f-9bc3-613f7baf89cc"
      },
      "execution_count": 75,
      "outputs": [
        {
          "output_type": "execute_result",
          "data": {
            "text/plain": [
              "(1, 2, 3)"
            ]
          },
          "metadata": {},
          "execution_count": 75
        }
      ]
    },
    {
      "cell_type": "code",
      "source": [
        "# 셋\n",
        "\n",
        "# 특징\n",
        "# 1. 중괄호로 생성한다 . {}\n",
        "# 2. 여러가지 자료형을 하나의 셋으로 생성할 수 있다.\n",
        "# 3. mutable 한 속성을 갖는다 (수정, 삭제 가능.)\n",
        "# 4. indexing, slicing 불가능하다. 순서가없다.\n",
        "# 5. 중복된 데이터를 함께 저장할 수 없다.\n",
        "\n",
        "set = {1,1,2,3}\n",
        "set"
      ],
      "metadata": {
        "colab": {
          "base_uri": "https://localhost:8080/"
        },
        "id": "6Ur9vNACk9Hz",
        "outputId": "2d1598e0-78ab-4ab3-cfc8-aeba058ff2e2"
      },
      "execution_count": 77,
      "outputs": [
        {
          "output_type": "execute_result",
          "data": {
            "text/plain": [
              "{1, 2, 3}"
            ]
          },
          "metadata": {},
          "execution_count": 77
        }
      ]
    },
    {
      "cell_type": "code",
      "source": [
        "set.add(4)\n",
        "set"
      ],
      "metadata": {
        "colab": {
          "base_uri": "https://localhost:8080/"
        },
        "id": "If9b8JX9lZ4c",
        "outputId": "bbaa7224-a402-407b-df8e-ca42c61de5b4"
      },
      "execution_count": 79,
      "outputs": [
        {
          "output_type": "execute_result",
          "data": {
            "text/plain": [
              "{1, 2, 3, 4}"
            ]
          },
          "metadata": {},
          "execution_count": 79
        }
      ]
    },
    {
      "cell_type": "code",
      "source": [
        "set.remove(3)\n",
        "set"
      ],
      "metadata": {
        "colab": {
          "base_uri": "https://localhost:8080/"
        },
        "id": "nIknDAsalhyo",
        "outputId": "643f1bf8-88dc-4438-f7db-db25cac902b2"
      },
      "execution_count": 81,
      "outputs": [
        {
          "output_type": "execute_result",
          "data": {
            "text/plain": [
              "{1, 2}"
            ]
          },
          "metadata": {},
          "execution_count": 81
        }
      ]
    },
    {
      "cell_type": "code",
      "source": [
        "# dict 딕셔너리 키값과 벨류값의 쌍으로 데이터를 저장하는 자료형\n",
        "# 자바에서의 map, JS 에서의 json 과 유사한 파이썬의 자료형 \n",
        "\n",
        "# 특징\n",
        "# 1.중괄호로 생성한다\n",
        "# 2.여러가지 자료형을 하나의 딕셔너리로 생성할 수 있다.\n",
        "# 3. mutable한 속성을 갖는다. (수정, 삭제 가능)\n",
        "# 4. indexing, slcing 이 불가능하다. 순서가없다 \n",
        "# 5. 키와 벨류로 구성한다.\n",
        "\n",
        "dict = {'name':'홍길동','age':24}\n",
        "d = {'a':'apple','b':'banana'}\n",
        "d['a']"
      ],
      "metadata": {
        "colab": {
          "base_uri": "https://localhost:8080/",
          "height": 35
        },
        "id": "ZsFgA3YelsS0",
        "outputId": "1834b641-b709-4232-cfb8-cb7c841dc629"
      },
      "execution_count": 84,
      "outputs": [
        {
          "output_type": "execute_result",
          "data": {
            "application/vnd.google.colaboratory.intrinsic+json": {
              "type": "string"
            },
            "text/plain": [
              "'apple'"
            ]
          },
          "metadata": {},
          "execution_count": 84
        }
      ]
    },
    {
      "cell_type": "code",
      "source": [
        "d['c'] = 'cherry'\n",
        "d"
      ],
      "metadata": {
        "colab": {
          "base_uri": "https://localhost:8080/"
        },
        "id": "j5WtFH0bmnRl",
        "outputId": "1e75efb3-ece4-4ce5-ecac-70feda56581f"
      },
      "execution_count": 85,
      "outputs": [
        {
          "output_type": "execute_result",
          "data": {
            "text/plain": [
              "{'a': 'apple', 'b': 'banana', 'c': 'cherry'}"
            ]
          },
          "metadata": {},
          "execution_count": 85
        }
      ]
    },
    {
      "cell_type": "code",
      "source": [
        "d['c'] = '체리'\n",
        "d"
      ],
      "metadata": {
        "colab": {
          "base_uri": "https://localhost:8080/"
        },
        "id": "7lqhTGDWmuGo",
        "outputId": "c412ca04-16c8-45f1-e80e-10992d6d208e"
      },
      "execution_count": 86,
      "outputs": [
        {
          "output_type": "execute_result",
          "data": {
            "text/plain": [
              "{'a': 'apple', 'b': 'banana', 'c': '체리'}"
            ]
          },
          "metadata": {},
          "execution_count": 86
        }
      ]
    },
    {
      "cell_type": "code",
      "source": [
        "# mutalbe : 리스트 셋 딕셔너리\n",
        "# immutable : 튜플 정수 실수 문자열\n",
        "\n",
        "me = [1,2,3]\n",
        "id(me) # 실제 데이터가 저장된 메모리 위치"
      ],
      "metadata": {
        "colab": {
          "base_uri": "https://localhost:8080/"
        },
        "id": "JaeNtN_DnJJP",
        "outputId": "ba3c2eb2-590a-404f-bd5b-d926bb25320f"
      },
      "execution_count": 90,
      "outputs": [
        {
          "output_type": "execute_result",
          "data": {
            "text/plain": [
              "140020620345984"
            ]
          },
          "metadata": {},
          "execution_count": 90
        }
      ]
    },
    {
      "cell_type": "code",
      "source": [
        "me.append(4)\n",
        "id(me) #메모리의 실제 주소가 바뀌지 않았다."
      ],
      "metadata": {
        "colab": {
          "base_uri": "https://localhost:8080/"
        },
        "id": "8tm-_B8UnZ10",
        "outputId": "d525d99a-6551-4170-83f1-98eb527565ce"
      },
      "execution_count": 91,
      "outputs": [
        {
          "output_type": "execute_result",
          "data": {
            "text/plain": [
              "140020620345984"
            ]
          },
          "metadata": {},
          "execution_count": 91
        }
      ]
    },
    {
      "cell_type": "code",
      "source": [
        "me"
      ],
      "metadata": {
        "colab": {
          "base_uri": "https://localhost:8080/"
        },
        "id": "NcXfPv9QnnaB",
        "outputId": "9df39819-5c80-446a-e1d9-50569acd59fe"
      },
      "execution_count": 92,
      "outputs": [
        {
          "output_type": "execute_result",
          "data": {
            "text/plain": [
              "[1, 2, 3, 4]"
            ]
          },
          "metadata": {},
          "execution_count": 92
        }
      ]
    },
    {
      "cell_type": "code",
      "source": [
        "# immutable\n",
        "me = 10\n",
        "id(me)\n"
      ],
      "metadata": {
        "colab": {
          "base_uri": "https://localhost:8080/"
        },
        "id": "xgr87un5npJo",
        "outputId": "6b1a28f1-d4a7-4bd8-f211-232583bd0678"
      },
      "execution_count": 95,
      "outputs": [
        {
          "output_type": "execute_result",
          "data": {
            "text/plain": [
              "94795865754400"
            ]
          },
          "metadata": {},
          "execution_count": 95
        }
      ]
    },
    {
      "cell_type": "code",
      "source": [
        "me += 1  # me = me + 1  , (자바) me ++\n",
        "id(me) # 메모리의 주소가 바뀐것을 확인할 수 있다."
      ],
      "metadata": {
        "colab": {
          "base_uri": "https://localhost:8080/"
        },
        "id": "rK8-2G8Yn2f0",
        "outputId": "c4990331-4563-447c-d701-3349975a08f0"
      },
      "execution_count": 97,
      "outputs": [
        {
          "output_type": "execute_result",
          "data": {
            "text/plain": [
              "94795865754432"
            ]
          },
          "metadata": {},
          "execution_count": 97
        }
      ]
    }
  ]
}
