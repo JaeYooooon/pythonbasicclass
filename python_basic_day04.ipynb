{
  "nbformat": 4,
  "nbformat_minor": 0,
  "metadata": {
    "colab": {
      "name": "python basic day04.ipynb",
      "provenance": [],
      "authorship_tag": "ABX9TyNhOcC9+6Ty2JeU1A/q7xVM",
      "include_colab_link": true
    },
    "kernelspec": {
      "name": "python3",
      "display_name": "Python 3"
    },
    "language_info": {
      "name": "python"
    }
  },
  "cells": [
    {
      "cell_type": "markdown",
      "metadata": {
        "id": "view-in-github",
        "colab_type": "text"
      },
      "source": [
        "<a href=\"https://colab.research.google.com/github/JaeYooooon/pythonbasicclass/blob/main/python_basic_day04.ipynb\" target=\"_parent\"><img src=\"https://colab.research.google.com/assets/colab-badge.svg\" alt=\"Open In Colab\"/></a>"
      ]
    },
    {
      "cell_type": "code",
      "execution_count": 1,
      "metadata": {
        "id": "Ej156ntdsbWm",
        "colab": {
          "base_uri": "https://localhost:8080/"
        },
        "outputId": "c3e9d395-263a-4cae-85b4-e7de8a7408c7"
      },
      "outputs": [
        {
          "output_type": "stream",
          "name": "stdout",
          "text": [
            "정수를 입력하세요 >>>12\n",
            "<class 'str'>\n"
          ]
        }
      ],
      "source": [
        "# input() 함수를 사용할 때 주의할 점\n",
        "# input()은 모든 입력을 str(문자열)로 저장한다는 점이다.\n",
        "# 따라서 숫자를 입력해도 문자로 받아들인다.\n",
        "\n",
        "n = input('정수를 입력하세요 >>>')\n",
        "print(type(n))"
      ]
    },
    {
      "cell_type": "code",
      "source": [
        "n = int(input('정수를 입력하세요 >>>')) # 형변환이 필요하다. casting\n",
        "print(type(n))"
      ],
      "metadata": {
        "colab": {
          "base_uri": "https://localhost:8080/"
        },
        "id": "4wa0rkX90PW7",
        "outputId": "12a37a62-b18d-4769-c5b0-2fb572ee4d88"
      },
      "execution_count": 2,
      "outputs": [
        {
          "output_type": "stream",
          "name": "stdout",
          "text": [
            "정수를 입력하세요 >>>12\n",
            "<class 'int'>\n"
          ]
        }
      ]
    },
    {
      "cell_type": "code",
      "source": [
        "price =  50000\n",
        "n = int(input('할부 개월 입력>>>'))\n",
        "print('매달 내는 돈은 {}입니다.'.format(price/n))"
      ],
      "metadata": {
        "colab": {
          "base_uri": "https://localhost:8080/"
        },
        "id": "MBSCXL9t0g3Y",
        "outputId": "69ea1673-8c84-4dd8-c638-dbf3ed7a0adf"
      },
      "execution_count": 3,
      "outputs": [
        {
          "output_type": "stream",
          "name": "stdout",
          "text": [
            "할부 개월 입력>>>10\n",
            "매달 내는 돈은 5000.0입니다.\n"
          ]
        }
      ]
    },
    {
      "cell_type": "code",
      "source": [
        "#1\n",
        "\n",
        "a = float(input('첫 번째 실수를 입력하세요>>>'))\n",
        "b = float(input('두 번째 실수를 입력하세요>>>'))\n",
        "print(f'{a}와 {b}의 합은 {a+b}입니다.')"
      ],
      "metadata": {
        "colab": {
          "base_uri": "https://localhost:8080/"
        },
        "id": "YB1k0Rq90_rb",
        "outputId": "d08f3de7-49e2-4675-cbee-a871a96c0d4f"
      },
      "execution_count": 7,
      "outputs": [
        {
          "output_type": "stream",
          "name": "stdout",
          "text": [
            "첫 번째 실수를 입력하세요>>>1.23\n",
            "두 번째 실수를 입력하세요>>>2.34\n",
            "1.23와 2.34의 합은 3.57입니다.\n"
          ]
        }
      ]
    },
    {
      "cell_type": "code",
      "source": [
        " #2\n",
        " \n",
        " month = [31,28,31,30,31,30,31,31,30,31,30,31]\n",
        " a = int(input('1~12사이의 월을 입력하세요>>>'))\n",
        " print(f'{a}월은 {month[a-1]}일까지 있습니다.')"
      ],
      "metadata": {
        "colab": {
          "base_uri": "https://localhost:8080/"
        },
        "id": "vcJMIyrm2FRN",
        "outputId": "1696e705-bd84-46be-a9fd-90f174b94185"
      },
      "execution_count": 14,
      "outputs": [
        {
          "output_type": "stream",
          "name": "stdout",
          "text": [
            "1~12사이의 월을 입력하세요>>>2\n",
            "2월은 28일까지 있습니다.\n"
          ]
        }
      ]
    },
    {
      "cell_type": "code",
      "source": [
        "#3\n",
        "\n",
        "english_dict = {\n",
        "    'flower' : '꽃',\n",
        "    'fly' : '날다',\n",
        "    'floor' : '바닥'\n",
        "}\n",
        "a = input('영어 단어를 입력하세요>>>')\n",
        "print(f'{a} : {english_dict[a]}')"
      ],
      "metadata": {
        "colab": {
          "base_uri": "https://localhost:8080/"
        },
        "id": "1qAh7wRN39Di",
        "outputId": "273bbc45-3a71-4e3f-8af8-79456ed873cb"
      },
      "execution_count": 19,
      "outputs": [
        {
          "output_type": "stream",
          "name": "stdout",
          "text": [
            "영어 단어를 입력하세요>>>flower\n",
            "flower : 꽃\n"
          ]
        }
      ]
    },
    {
      "cell_type": "code",
      "source": [
        "#4\n",
        "\n",
        "a = input('희망하는 수학여행지를 입력하세요>>>')\n",
        "b = input('희망하는 수학여행지를 입력하세요>>>')\n",
        "c = input('희망하는 수학여행지를 입력하세요>>>')\n",
        "print(ㅁf'조사된 수학여행지는 {a},{b},{c}입니다. ')"
      ],
      "metadata": {
        "colab": {
          "base_uri": "https://localhost:8080/"
        },
        "id": "7eOyW_A95upA",
        "outputId": "e27b418d-dad4-4a3d-a5d4-92f29f34b982"
      },
      "execution_count": 30,
      "outputs": [
        {
          "output_type": "stream",
          "name": "stdout",
          "text": [
            "희망하는 수학여행지를 입력하세요>>>제주\n",
            "희망하는 수학여행지를 입력하세요>>>제주\n",
            "희망하는 수학여행지를 입력하세요>>>민속촌\n",
            "조사된 수학여행지는 제주,제주,민속촌입니다. \n"
          ]
        }
      ]
    },
    {
      "cell_type": "code",
      "source": [
        "# 복합 대입 연산자\n",
        "a = 1\n",
        "print(a)\n",
        "# a = a + 1\n",
        "a += 1\n",
        "print(a)"
      ],
      "metadata": {
        "colab": {
          "base_uri": "https://localhost:8080/"
        },
        "id": "Js0cnXtM-Lja",
        "outputId": "eeeb33e9-ce6a-4f09-fdfd-966d8aa546d1"
      },
      "execution_count": 31,
      "outputs": [
        {
          "output_type": "stream",
          "name": "stdout",
          "text": [
            "1\n",
            "2\n"
          ]
        }
      ]
    },
    {
      "cell_type": "code",
      "source": [
        "a, b =10, 20\n",
        "print('a = %d, b = %d' %(a,b))\n",
        "a,b = b,a\n",
        "print('a = %d, b = %d' %(a,b))"
      ],
      "metadata": {
        "colab": {
          "base_uri": "https://localhost:8080/"
        },
        "id": "O22xOIsZ_97O",
        "outputId": "54b21419-f8b0-406d-b385-a71b32644f71"
      },
      "execution_count": 33,
      "outputs": [
        {
          "output_type": "stream",
          "name": "stdout",
          "text": [
            "a = 10, b = 20\n",
            "a = 20, b = 10\n"
          ]
        }
      ]
    },
    {
      "cell_type": "code",
      "source": [
        "# 시퀀스 연산자 : 순서가 있는 구조 시퀀스 (리스트,튜플,문자열, range) 에서 사용된다.\n",
        "[1,3,5] + [2,4,6]\n"
      ],
      "metadata": {
        "colab": {
          "base_uri": "https://localhost:8080/"
        },
        "id": "qTu4__s-B65v",
        "outputId": "aadf4005-93d3-410b-dde9-23cfb2c8151d"
      },
      "execution_count": 35,
      "outputs": [
        {
          "output_type": "execute_result",
          "data": {
            "text/plain": [
              "[1, 3, 5, 2, 4, 6]"
            ]
          },
          "metadata": {},
          "execution_count": 35
        }
      ]
    },
    {
      "cell_type": "code",
      "source": [
        "'hello' +' '+'python'"
      ],
      "metadata": {
        "colab": {
          "base_uri": "https://localhost:8080/",
          "height": 35
        },
        "id": "jV2KUI0ACJqI",
        "outputId": "26d88baf-4a2a-48f3-a653-614110b78859"
      },
      "execution_count": 37,
      "outputs": [
        {
          "output_type": "execute_result",
          "data": {
            "application/vnd.google.colaboratory.intrinsic+json": {
              "type": "string"
            },
            "text/plain": [
              "'hello python'"
            ]
          },
          "metadata": {},
          "execution_count": 37
        }
      ]
    },
    {
      "cell_type": "code",
      "source": [
        "[1,3,5]*2"
      ],
      "metadata": {
        "colab": {
          "base_uri": "https://localhost:8080/"
        },
        "id": "Gkub3So1CU3w",
        "outputId": "c6ba08d9-77b0-47ec-a7cc-ce99c070ca1d"
      },
      "execution_count": 39,
      "outputs": [
        {
          "output_type": "execute_result",
          "data": {
            "text/plain": [
              "[1, 3, 5, 1, 3, 5]"
            ]
          },
          "metadata": {},
          "execution_count": 39
        }
      ]
    },
    {
      "cell_type": "code",
      "source": [
        "'★'*20"
      ],
      "metadata": {
        "colab": {
          "base_uri": "https://localhost:8080/",
          "height": 35
        },
        "id": "_lgxLJFNCXm2",
        "outputId": "87c77106-983a-4a57-9007-1e57093ff686"
      },
      "execution_count": 42,
      "outputs": [
        {
          "output_type": "execute_result",
          "data": {
            "application/vnd.google.colaboratory.intrinsic+json": {
              "type": "string"
            },
            "text/plain": [
              "'★★★★★★★★★★★★★★★★★★★★'"
            ]
          },
          "metadata": {},
          "execution_count": 42
        }
      ]
    },
    {
      "cell_type": "code",
      "source": [
        "# 멤버쉽 연산자\n",
        "5 in [1,2,3,4,5]\n",
        "5 not in [1,2,3,4,5]"
      ],
      "metadata": {
        "colab": {
          "base_uri": "https://localhost:8080/"
        },
        "id": "GKJQSUT6DEBB",
        "outputId": "c94792e2-5f63-4ff4-d0e6-c39c1a07a222"
      },
      "execution_count": 44,
      "outputs": [
        {
          "output_type": "execute_result",
          "data": {
            "text/plain": [
              "False"
            ]
          },
          "metadata": {},
          "execution_count": 44
        }
      ]
    },
    {
      "cell_type": "code",
      "source": [
        "'a' in 'apple'"
      ],
      "metadata": {
        "colab": {
          "base_uri": "https://localhost:8080/"
        },
        "id": "HzZYye67DYD1",
        "outputId": "f2bfe75b-719c-4117-f192-da1d21c9239d"
      },
      "execution_count": 45,
      "outputs": [
        {
          "output_type": "execute_result",
          "data": {
            "text/plain": [
              "True"
            ]
          },
          "metadata": {},
          "execution_count": 45
        }
      ]
    },
    {
      "cell_type": "code",
      "source": [
        "# 1\n",
        "a = input('10 ~ 99 사이의 정수를 입력하세요 >>>')\n",
        "print('십의 자리 :',a[0:1])\n",
        "print('일의 자리 :',a[1:2])"
      ],
      "metadata": {
        "colab": {
          "base_uri": "https://localhost:8080/"
        },
        "id": "RmhcdDWSDjtM",
        "outputId": "460c67f7-83cb-4e49-e209-638d479662e3"
      },
      "execution_count": 52,
      "outputs": [
        {
          "output_type": "stream",
          "name": "stdout",
          "text": [
            "10 ~ 99 사이의 정수를 입력하세요 >>>45\n",
            "십의 자리: 4\n",
            "일의 자리: 5\n"
          ]
        }
      ]
    },
    {
      "cell_type": "code",
      "source": [
        "a = input('10 ~ 99 사이의 정수를 입력하세요 >>>')\n",
        "\n",
        "print(f'십의 자리 :{a[0]}')\n",
        "print(f'일의 자리 :{a[1]}')"
      ],
      "metadata": {
        "colab": {
          "base_uri": "https://localhost:8080/"
        },
        "id": "DhcqVzoeFKzb",
        "outputId": "cbc08dfe-550c-4784-e8a9-86d6a51b9987"
      },
      "execution_count": 53,
      "outputs": [
        {
          "output_type": "stream",
          "name": "stdout",
          "text": [
            "10 ~ 99 사이의 정수를 입력하세요 >>>45\n",
            "십의 자리 :4\n",
            "일의 자리 :5\n"
          ]
        }
      ]
    },
    {
      "cell_type": "code",
      "source": [
        "a = int(input('10 ~ 99 사이의 정수를 입력하세요 >>>'))\n",
        "\n",
        "print(f'십의 자리 :{a//10}')\n",
        "print(f'일의 자리 :{a%10}')"
      ],
      "metadata": {
        "colab": {
          "base_uri": "https://localhost:8080/"
        },
        "id": "6uzunBr2FghP",
        "outputId": "32043185-41df-4e63-97cb-fde74fc8e026"
      },
      "execution_count": 55,
      "outputs": [
        {
          "output_type": "stream",
          "name": "stdout",
          "text": [
            "10 ~ 99 사이의 정수를 입력하세요 >>>45\n",
            "십의 자리 :4\n",
            "일의 자리 :5\n"
          ]
        }
      ]
    },
    {
      "cell_type": "code",
      "source": [
        "# 2 \n",
        "a = int(input('초를 입력하세요>>>'))\n",
        "a = 3690\n",
        "hour = a // 3600\n",
        "minute = a % 3600 // 60\n",
        "second = a % 60\n",
        "print(f'변환 결과는 {hour}시간 {minute}분 {second}초 입니다.')"
      ],
      "metadata": {
        "colab": {
          "base_uri": "https://localhost:8080/"
        },
        "id": "-uSoUwzFF8Zy",
        "outputId": "7f6740db-7dfe-4401-e10d-859045421ebd"
      },
      "execution_count": 68,
      "outputs": [
        {
          "output_type": "stream",
          "name": "stdout",
          "text": [
            "초를 입력하세요>>>3690\n",
            "변환 결과는 1시간 1분 30초 입니다.\n"
          ]
        }
      ]
    },
    {
      "cell_type": "code",
      "source": [
        "# 3\n",
        "\n",
        "no = int(input('4자리 사원번호를 입력하세요 >>>'))\n",
        "no_1 = no % 10\n",
        "print(no_1)\n",
        "if no_1 >= 5 : \n",
        "  print('근무시간은 오전입니다.')\n",
        "else :\n",
        "    print('근무시간은 오후입니다.')"
      ],
      "metadata": {
        "colab": {
          "base_uri": "https://localhost:8080/"
        },
        "id": "zlfHdgi1LUEW",
        "outputId": "5c25b401-31c3-4388-8eed-bcabd8010801"
      },
      "execution_count": 85,
      "outputs": [
        {
          "output_type": "stream",
          "name": "stdout",
          "text": [
            "4자리 사원번호를 입력하세요 >>>1243\n",
            "3\n",
            "근무시간은 오후입니다.\n"
          ]
        }
      ]
    },
    {
      "cell_type": "code",
      "source": [
        "# 조건문 IF\n",
        "# 조건문은 특정 조건을 만족하는지의 여부에 따라 실행되는 코드가 달라져야 할때 사용\n",
        "a = 0\n",
        "if a > 0:\n",
        "  print('양수')"
      ],
      "metadata": {
        "id": "hAwtGEUTNqcw"
      },
      "execution_count": 87,
      "outputs": []
    }
  ]
}