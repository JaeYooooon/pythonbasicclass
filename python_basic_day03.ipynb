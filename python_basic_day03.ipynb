{
  "nbformat": 4,
  "nbformat_minor": 0,
  "metadata": {
    "colab": {
      "name": "python basic day03.ipynb",
      "provenance": [],
      "authorship_tag": "ABX9TyMDIwN9Lyl3l/bx9KhquWhq",
      "include_colab_link": true
    },
    "kernelspec": {
      "name": "python3",
      "display_name": "Python 3"
    },
    "language_info": {
      "name": "python"
    }
  },
  "cells": [
    {
      "cell_type": "markdown",
      "metadata": {
        "id": "view-in-github",
        "colab_type": "text"
      },
      "source": [
        "<a href=\"https://colab.research.google.com/github/JaeYooooon/pythonbasicclass/blob/main/python_basic_day03.ipynb\" target=\"_parent\"><img src=\"https://colab.research.google.com/assets/colab-badge.svg\" alt=\"Open In Colab\"/></a>"
      ]
    },
    {
      "cell_type": "code",
      "execution_count": null,
      "metadata": {
        "id": "_kRh6TOoRMtV"
      },
      "outputs": [],
      "source": [
        "  # list tuple dict set\n",
        "  # list  [] indexing/slicing mutable(del,ins)   [1]\n",
        "  # tuple () indexing/slicing immutable(del,ins) (1,)\n",
        "  # dict  {}   x (unordered)  mutable(del,ins)   {'ket':'value'}\n",
        "  # set   {}   x (unordered)  mutable(del,ins)   {1,2,3}"
      ]
    },
    {
      "cell_type": "code",
      "source": [
        "# 1\n",
        "no = '31025'\n",
        "a = no[0]  #indexing\n",
        "b = no[1:3]\n",
        "c = no[3:]\n",
        "print(a,'학년',b,'반',c,'번')\n",
        "print(f'{a} 학년 {b} 반 {c} 번') # f 스트링  f'{} {} {}'\n",
        "\n"
      ],
      "metadata": {
        "colab": {
          "base_uri": "https://localhost:8080/"
        },
        "id": "hGkorY6BVj7h",
        "outputId": "7607652a-4a17-4a10-fdb7-6f3913440386"
      },
      "execution_count": 11,
      "outputs": [
        {
          "output_type": "stream",
          "name": "stdout",
          "text": [
            "3 학년 10 반 25 번\n",
            "3 학년 10 반 25 번\n"
          ]
        }
      ]
    },
    {
      "cell_type": "code",
      "source": [
        "# 2\n",
        "no ='서울2가1234'\n",
        "no4 =no[-4:]\n",
        "print(no,'의 차량번호 4자리는',no4,'입니다.')\n",
        "print(f'{no} 의 차량번호 4자리는 {no4} 입니다.')\n"
      ],
      "metadata": {
        "colab": {
          "base_uri": "https://localhost:8080/"
        },
        "id": "B8UTuF6xXnBu",
        "outputId": "e9b71e94-7b62-42d5-bace-5487bcdcc8e5"
      },
      "execution_count": 23,
      "outputs": [
        {
          "output_type": "stream",
          "name": "stdout",
          "text": [
            "서울2가1234 의 차량번호 4자리는 1234 입니다.\n",
            "서울2가1234 의 차량번호 4자리는 1234 입니다.\n"
          ]
        }
      ]
    },
    {
      "cell_type": "code",
      "source": [
        "# 3\n",
        "s = 'maple'\n",
        "center = s[len(s) //2]  # // 나머지를 버리고 몫만 취한다.\n",
        "                     # %  몫은 버리고 나머지만 취한다. (홀/짝/배)\n",
        "\n",
        "print(s,'의 가운데 글자는',center,'입니다')\n",
        "print(f'{s} 의 가운데 글자는 {center} 입니다')"
      ],
      "metadata": {
        "colab": {
          "base_uri": "https://localhost:8080/"
        },
        "id": "ZVsYiQ81ahcj",
        "outputId": "d11c3798-3838-4c8b-eb13-3cdf88bf963f"
      },
      "execution_count": 43,
      "outputs": [
        {
          "output_type": "stream",
          "name": "stdout",
          "text": [
            "maple 의 가운데 글자는 p 입니다\n",
            "maple 의 가운데 글자는 p 입니다\n"
          ]
        }
      ]
    },
    {
      "cell_type": "code",
      "source": [
        "# 4\n",
        "li1 = [10, 20, 30, 40, 50, 60, 70, 80, 90, 100]\n",
        "print('3번째 요소부터 7번째 요소 =',li1[2:7])\n",
        "print('3번째 요소부터 7번째 요소 중 2번째 요소 =',li1[2:7][1])"
      ],
      "metadata": {
        "colab": {
          "base_uri": "https://localhost:8080/"
        },
        "id": "NAhK0vhifWxK",
        "outputId": "5fb3b55b-b9b8-4c0a-82cd-457f6b96663d"
      },
      "execution_count": 51,
      "outputs": [
        {
          "output_type": "stream",
          "name": "stdout",
          "text": [
            "3번째 요소부터 7번째 요소 = [30, 40, 50, 60, 70]\n",
            "3번째 요소부터 7번째 요소 중 2번째 요소 = 40\n"
          ]
        }
      ]
    },
    {
      "cell_type": "code",
      "source": [
        "dict = {'금요일':'탕수육',\n",
        "        '토요일':'유산슬',\n",
        "        '일요일':'팔보채'}\n",
        "\n",
        "print('금요일 :',dict['금요일'])\n",
        "print('토요일 :',dict['토요일'])\n",
        "print('일요일 :',dict['일요일'])"
      ],
      "metadata": {
        "colab": {
          "base_uri": "https://localhost:8080/"
        },
        "id": "C2P9oH6ugwVz",
        "outputId": "e6649b60-8e4f-4e18-c877-25bd5414d673"
      },
      "execution_count": 57,
      "outputs": [
        {
          "output_type": "stream",
          "name": "stdout",
          "text": [
            "금요일 : 탕수육\n",
            "토요일 : 유산슬\n",
            "일요일 : 팔보채\n"
          ]
        }
      ]
    },
    {
      "cell_type": "code",
      "source": [
        "# \\  따옴표의 기능을 무력화시키고 글자로 표현\n",
        "# \\n 줄바꿈 line feed\n",
        "# \\t 탭     tab\n",
        "print('Hello \\'World\\'')\n",
        "\n",
        "print('*\\n**\\n***')\n",
        "print('Hello\\nWorld')\n",
        "print('이름\\t연락처')\n",
        "print('제시카\\t01-123-4567')\n",
        "print('마틴\\t010-6789-7890')"
      ],
      "metadata": {
        "colab": {
          "base_uri": "https://localhost:8080/"
        },
        "id": "NBH1HGPFiWek",
        "outputId": "3efc9c15-3335-4bb0-a640-bbe3d7b79241"
      },
      "execution_count": 66,
      "outputs": [
        {
          "output_type": "stream",
          "name": "stdout",
          "text": [
            "Hello 'World'\n",
            "*\n",
            "**\n",
            "***\n",
            "Hello\n",
            "World\n",
            "이름\t연락처\n",
            "제시카\t01-123-4567\n",
            "마틴\t010-6789-7890\n"
          ]
        }
      ]
    },
    {
      "cell_type": "code",
      "source": [
        "# print() 함수\n",
        "print('재미있는','파이썬')\n",
        "print('재미있는','파이썬',sep=',')\n",
        "\n",
        "print('영화 타이타닉')\n",
        "print('평점',end=':')\n",
        "print('5점')"
      ],
      "metadata": {
        "colab": {
          "base_uri": "https://localhost:8080/"
        },
        "id": "-T4OtF-aknSN",
        "outputId": "fc0848a3-795d-489a-fd7b-578eb27db4d3"
      },
      "execution_count": 72,
      "outputs": [
        {
          "output_type": "stream",
          "name": "stdout",
          "text": [
            "재미있는 파이썬\n",
            "재미있는,파이썬\n",
            "영화 타이타닉\n",
            "평점:5점\n"
          ]
        }
      ]
    },
    {
      "cell_type": "code",
      "source": [
        "# % 연산자\n",
        "\n",
        "print('%d'% 10)  # %d 정수10진수 자리표시자\n",
        "print('%f' % 3.14)\n",
        "print('%s' % 'python')"
      ],
      "metadata": {
        "colab": {
          "base_uri": "https://localhost:8080/"
        },
        "id": "GXjMMbTGoxBQ",
        "outputId": "f89fa12e-b64b-42d7-b41a-1eac720800eb"
      },
      "execution_count": 81,
      "outputs": [
        {
          "output_type": "stream",
          "name": "stdout",
          "text": [
            "10\n",
            "3.140000\n",
            "python\n"
          ]
        }
      ]
    },
    {
      "cell_type": "code",
      "source": [
        "print('%5d' % 11) # 다섯칸을 확보하고 오른쪽부터 출력\n",
        "print('%5d' % 1) # 다섯칸을 확보하고 오른쪽에 출력\n",
        "print('%d' % 1)"
      ],
      "metadata": {
        "colab": {
          "base_uri": "https://localhost:8080/"
        },
        "id": "oZaUbfC1tPro",
        "outputId": "48e448d1-dd12-405f-fefc-decd1abab72f"
      },
      "execution_count": 88,
      "outputs": [
        {
          "output_type": "stream",
          "name": "stdout",
          "text": [
            "   11\n",
            "    1\n",
            "1\n"
          ]
        }
      ]
    },
    {
      "cell_type": "code",
      "source": [
        "print('%-5d' % 11) # 다섯칸을 확보하고 왼쪽부터 출력\n",
        "print('%-5d' % 1) # 다섯칸을 확보하고 왼쪽에 출력\n",
        "print('%d' % 1)"
      ],
      "metadata": {
        "colab": {
          "base_uri": "https://localhost:8080/"
        },
        "id": "BB7mehi4tzWI",
        "outputId": "a1453ac7-8a6e-49d9-81b2-11a4b73ccad9"
      },
      "execution_count": 89,
      "outputs": [
        {
          "output_type": "stream",
          "name": "stdout",
          "text": [
            "11   \n",
            "1    \n",
            "1\n"
          ]
        }
      ]
    },
    {
      "cell_type": "code",
      "source": [
        "print('%5.2f' % 3.14) # 다섯칸을 확보하고 소수 2자리까지 오른쪽에 실수 출력"
      ],
      "metadata": {
        "colab": {
          "base_uri": "https://localhost:8080/"
        },
        "id": "VEgSQLpAuF2R",
        "outputId": "c355eedd-617d-4155-e683-16090393c9c1"
      },
      "execution_count": 90,
      "outputs": [
        {
          "output_type": "stream",
          "name": "stdout",
          "text": [
            " 3.14\n"
          ]
        }
      ]
    },
    {
      "cell_type": "code",
      "source": [
        "a = '학생'\n",
        "\n",
        "# 기본 출력 \n",
        "print(a,'입니다.')\n",
        "\n",
        "# f string 출력\n",
        "print(f'{a} 입니다.')\n",
        "\n",
        "# % 연산자 출력\n",
        "print('%s 입니다.' % a)\n",
        "\n",
        "# format() 출력 \n",
        "print('{} 입니다.'.format(a))"
      ],
      "metadata": {
        "colab": {
          "base_uri": "https://localhost:8080/"
        },
        "id": "5kq_NwVpvBSR",
        "outputId": "1099a8d0-f5cc-4ab4-f947-13be0628fd0a"
      },
      "execution_count": 95,
      "outputs": [
        {
          "output_type": "stream",
          "name": "stdout",
          "text": [
            "학생 입니다.\n",
            "학생 입니다.\n",
            "학생 입니다.\n",
            "학생 입니다.\n"
          ]
        }
      ]
    },
    {
      "cell_type": "code",
      "source": [
        "# format() 메소드\n",
        "\n",
        "print('My name is {}'.format('James'))"
      ],
      "metadata": {
        "colab": {
          "base_uri": "https://localhost:8080/"
        },
        "id": "pS7O0bTkwXgt",
        "outputId": "7c534c3e-ca26-4a81-a769-f0abf8cc711d"
      },
      "execution_count": 97,
      "outputs": [
        {
          "output_type": "stream",
          "name": "stdout",
          "text": [
            "My name is James\n"
          ]
        }
      ]
    },
    {
      "cell_type": "code",
      "source": [
        "print('My name is {name}'.format(name='James'))"
      ],
      "metadata": {
        "colab": {
          "base_uri": "https://localhost:8080/"
        },
        "id": "Gb-gnzL4wtrc",
        "outputId": "50d76ea4-b330-412c-9ddd-6c40c5aa6c51"
      },
      "execution_count": 99,
      "outputs": [
        {
          "output_type": "stream",
          "name": "stdout",
          "text": [
            "My name is James\n"
          ]
        }
      ]
    },
    {
      "cell_type": "code",
      "source": [
        "print('My name is {name}.I\\'m {age} years old.'.format(name='James', age=20))"
      ],
      "metadata": {
        "colab": {
          "base_uri": "https://localhost:8080/"
        },
        "id": "3uZEl1mPxh9T",
        "outputId": "388f06f7-205c-4fb5-c236-c30336603572"
      },
      "execution_count": 105,
      "outputs": [
        {
          "output_type": "stream",
          "name": "stdout",
          "text": [
            "My name is James.I'm 20 years old.\n"
          ]
        }
      ]
    },
    {
      "cell_type": "code",
      "source": [
        "# f-strings\n",
        "\n",
        "who = 'you'\n",
        "how = 'happy'\n",
        "\n",
        "print(f'{who} make me {how}')"
      ],
      "metadata": {
        "colab": {
          "base_uri": "https://localhost:8080/"
        },
        "id": "pxURxYzhx8mv",
        "outputId": "ae390f00-da96-413c-e76d-b32fe607bdc6"
      },
      "execution_count": 106,
      "outputs": [
        {
          "output_type": "stream",
          "name": "stdout",
          "text": [
            "you make me happy\n"
          ]
        }
      ]
    },
    {
      "cell_type": "code",
      "source": [
        "age = 25\n",
        "print(f'내년엔 {age+1}살이 됩니다')"
      ],
      "metadata": {
        "colab": {
          "base_uri": "https://localhost:8080/"
        },
        "id": "aSbH0zFRyltI",
        "outputId": "d1944e79-94d8-45a1-9fba-09037fc67bdc"
      },
      "execution_count": 108,
      "outputs": [
        {
          "output_type": "stream",
          "name": "stdout",
          "text": [
            "내년엔 26살이 됩니다\n"
          ]
        }
      ]
    },
    {
      "cell_type": "code",
      "source": [
        "# 표준입력\n",
        "\n",
        "a = input()\n",
        "print(a)"
      ],
      "metadata": {
        "colab": {
          "base_uri": "https://localhost:8080/"
        },
        "id": "xS4JJFlBzAIW",
        "outputId": "18afe0d9-cd78-4293-f3c5-520b5cd8e7d8"
      },
      "execution_count": 113,
      "outputs": [
        {
          "output_type": "stream",
          "name": "stdout",
          "text": [
            "asd\n",
            "asd\n"
          ]
        }
      ]
    },
    {
      "cell_type": "code",
      "source": [
        "n = input('정수를 입력하세요 : ')\n",
        "print(n)"
      ],
      "metadata": {
        "colab": {
          "base_uri": "https://localhost:8080/"
        },
        "id": "euWWTpSkzYQy",
        "outputId": "a9560f25-238a-4a6e-ccee-bca9aac90be4"
      },
      "execution_count": 112,
      "outputs": [
        {
          "output_type": "stream",
          "name": "stdout",
          "text": [
            "정수를 입력하세요 : 23\n",
            "23\n"
          ]
        }
      ]
    },
    {
      "cell_type": "code",
      "source": [
        "name = input('이름을 입력하세요>>>')\n",
        "age = input('나이를 입력하세요>>>')\n",
        "\n",
        "print(f'입력된 이름은 {name} 입니다.')\n",
        "print(f'입력된 나이는 {age} 입니다.')"
      ],
      "metadata": {
        "colab": {
          "base_uri": "https://localhost:8080/"
        },
        "id": "jKdQhDYszyPy",
        "outputId": "185feb53-f33d-4036-d9cb-e182bc3e04a5"
      },
      "execution_count": 116,
      "outputs": [
        {
          "output_type": "stream",
          "name": "stdout",
          "text": [
            "이름을 입력하세요>>>김재윤\n",
            "나이를 입력하세요>>>25\n",
            "입력된 이름은 김재윤입니다.\n",
            "입력된 나이는 25입니다.\n"
          ]
        }
      ]
    },
    {
      "cell_type": "code",
      "source": [
        "name = input('이름을 입력하세요>>>')\n",
        "age = input('나이를 입력하세요>>>')\n",
        "\n",
        "print('입력된 이름은 {} 입니다.'.format(name))\n",
        "print('입력된 나이는 {} 입니다.'.format(age))"
      ],
      "metadata": {
        "colab": {
          "base_uri": "https://localhost:8080/"
        },
        "id": "MVpMLNlw0fk6",
        "outputId": "a0ed0208-2588-4e4d-d4c3-7913111fe016"
      },
      "execution_count": 117,
      "outputs": [
        {
          "output_type": "stream",
          "name": "stdout",
          "text": [
            "이름을 입력하세요>>>김재윤\n",
            "나이를 입력하세요>>>25\n",
            "입력된 이름은 김재윤입니다.\n",
            "입력된 나이는 25입니다.\n"
          ]
        }
      ]
    },
    {
      "cell_type": "code",
      "source": [
        "name = input('이름을 입력하세요>>>')\n",
        "age = input('나이를 입력하세요>>>')\n",
        "\n",
        "print('입력된 이름은 %s 입니다.' % name)\n",
        "print('입력된 나이는 %s 입니다.' % age)\n"
      ],
      "metadata": {
        "colab": {
          "base_uri": "https://localhost:8080/"
        },
        "id": "DNUPDm0l0tEb",
        "outputId": "c4109e9c-fbff-40ee-e3de-3d46b4b20c23"
      },
      "execution_count": 123,
      "outputs": [
        {
          "output_type": "stream",
          "name": "stdout",
          "text": [
            "이름을 입력하세요>>>김재윤\n",
            "나이를 입력하세요>>>25\n",
            "입력된 이름은 김재윤입니다.\n",
            "입력된 나이는 25입니다.\n"
          ]
        }
      ]
    },
    {
      "cell_type": "code",
      "source": [
        "name = input('이름을 입력하세요>>>')\n",
        "age = input('나이를 입력하세요>>>')\n",
        "\n",
        "print('입력된 이름은 ',name,'입니다.')\n",
        "print('입력된 나이는 ',age,'입니다.')"
      ],
      "metadata": {
        "colab": {
          "base_uri": "https://localhost:8080/"
        },
        "id": "oeltTkpM1kOV",
        "outputId": "bb3b544b-ddc2-430f-9969-f5dcd4ccd1a5"
      },
      "execution_count": 129,
      "outputs": [
        {
          "output_type": "stream",
          "name": "stdout",
          "text": [
            "이름을 입력하세요>>>김재윤\n",
            "나이를 입력하세요>>>25\n",
            "입력된 이름은  김재윤 입니다.\n",
            "입력된 나이는  25 입니다.\n"
          ]
        }
      ]
    }
  ]
}