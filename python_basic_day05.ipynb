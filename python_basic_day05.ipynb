{
  "nbformat": 4,
  "nbformat_minor": 0,
  "metadata": {
    "colab": {
      "name": "python basic day05.ipynb",
      "provenance": [],
      "authorship_tag": "ABX9TyO+4VhItTfMBA6OK+O/0HCo",
      "include_colab_link": true
    },
    "kernelspec": {
      "name": "python3",
      "display_name": "Python 3"
    },
    "language_info": {
      "name": "python"
    }
  },
  "cells": [
    {
      "cell_type": "markdown",
      "metadata": {
        "id": "view-in-github",
        "colab_type": "text"
      },
      "source": [
        "<a href=\"https://colab.research.google.com/github/JaeYooooon/pythonbasicclass/blob/main/python_basic_day05.ipynb\" target=\"_parent\"><img src=\"https://colab.research.google.com/assets/colab-badge.svg\" alt=\"Open In Colab\"/></a>"
      ]
    },
    {
      "cell_type": "code",
      "execution_count": null,
      "metadata": {
        "id": "rX93X8ctxmhM"
      },
      "outputs": [],
      "source": [
        "# 2\n",
        "n = 1\n",
        "while n <= 100:\n",
        "    if n % 7 == 0:\n",
        "        print(n)\n",
        "    n +=1\n"
      ]
    },
    {
      "cell_type": "code",
      "source": [
        "# 3\n",
        "coin = int(input('자판기에 얼마를 넣을까요 >>>'))\n",
        "coffee = 0\n",
        "while coin>=300:\n",
        "    coffee +=1\n",
        "    coin -=300\n",
        "    \n",
        "    print(f'커피{coffee}잔, 잔돈{coin}원')"
      ],
      "metadata": {
        "id": "wBhcpOMCxqeA"
      },
      "execution_count": null,
      "outputs": []
    },
    {
      "cell_type": "code",
      "source": [
        "# 4\n",
        "no = set()\n",
        "while len(no) < 5:\n",
        "    n = int(input('0~9 사이 정수를 입력하세요>>>'))\n",
        "    no.add(n)\n",
        "print('모두 입력되었습니다')\n",
        "print(f'입력된 값은 {no}입니다')"
      ],
      "metadata": {
        "id": "tO-cENTbxrxX"
      },
      "execution_count": null,
      "outputs": []
    }
  ]
}