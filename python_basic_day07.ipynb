{
  "nbformat": 4,
  "nbformat_minor": 0,
  "metadata": {
    "colab": {
      "name": "python basic day07.ipynb",
      "provenance": [],
      "authorship_tag": "ABX9TyPy8V1xJtlNyxXqVbnO34J1",
      "include_colab_link": true
    },
    "kernelspec": {
      "name": "python3",
      "display_name": "Python 3"
    },
    "language_info": {
      "name": "python"
    }
  },
  "cells": [
    {
      "cell_type": "markdown",
      "metadata": {
        "id": "view-in-github",
        "colab_type": "text"
      },
      "source": [
        "<a href=\"https://colab.research.google.com/github/JaeYooooon/pythonbasicclass/blob/main/python_basic_day07.ipynb\" target=\"_parent\"><img src=\"https://colab.research.google.com/assets/colab-badge.svg\" alt=\"Open In Colab\"/></a>"
      ]
    },
    {
      "cell_type": "code",
      "execution_count": 4,
      "metadata": {
        "colab": {
          "base_uri": "https://localhost:8080/",
          "height": 35
        },
        "id": "cnhSmL5rB6a6",
        "outputId": "59d700ca-6905-4977-b147-a300e26a2061"
      },
      "outputs": [
        {
          "output_type": "execute_result",
          "data": {
            "application/vnd.google.colaboratory.intrinsic+json": {
              "type": "string"
            },
            "text/plain": [
              "'김'"
            ]
          },
          "metadata": {},
          "execution_count": 4
        }
      ],
      "source": [
        "chr(48)\n",
        "chr(44608)"
      ]
    },
    {
      "cell_type": "code",
      "source": [
        "for item in enumerate(['가위','바위','보']):\n",
        "  print(item)"
      ],
      "metadata": {
        "colab": {
          "base_uri": "https://localhost:8080/"
        },
        "id": "ANS2TXVeH_HW",
        "outputId": "9cb02e3b-fea3-4fb8-d01e-cfcc593f89e0"
      },
      "execution_count": 5,
      "outputs": [
        {
          "output_type": "stream",
          "name": "stdout",
          "text": [
            "(0, '가위')\n",
            "(1, '바위')\n",
            "(2, '보')\n"
          ]
        }
      ]
    },
    {
      "cell_type": "code",
      "source": [
        "for idx,item in enumerate(['가위','바위','보']):\n",
        "  print(idx+1,item)"
      ],
      "metadata": {
        "colab": {
          "base_uri": "https://localhost:8080/"
        },
        "id": "Umdcn7iiIfB3",
        "outputId": "349b65c3-813c-4f96-8320-03e653dd4f4a"
      },
      "execution_count": 7,
      "outputs": [
        {
          "output_type": "stream",
          "name": "stdout",
          "text": [
            "1 가위\n",
            "2 바위\n",
            "3 보\n"
          ]
        }
      ]
    },
    {
      "cell_type": "code",
      "source": [
        "# Method\n",
        "\n",
        "name = input('이름을 입력하세요>>>')\n",
        "list = []\n",
        "list.append(name)\n",
        "print(list)\n",
        " "
      ],
      "metadata": {
        "colab": {
          "base_uri": "https://localhost:8080/"
        },
        "id": "73nIr2VRJklH",
        "outputId": "355b8956-13bc-4975-f217-047b2625ea63"
      },
      "execution_count": 10,
      "outputs": [
        {
          "output_type": "stream",
          "name": "stdout",
          "text": [
            "이름을 입력하세요>>>김재윤\n",
            "['김재윤']\n"
          ]
        }
      ]
    },
    {
      "cell_type": "code",
      "source": [
        "s = '내가 그린 기린 그림은 목 긴 기린 그림이고, 네가 그린 기린 그림은 목짧은 기린 그림이다.'\n",
        "s.count('기린')"
      ],
      "metadata": {
        "colab": {
          "base_uri": "https://localhost:8080/"
        },
        "id": "qbbulEKkKMXk",
        "outputId": "3d9abe14-f206-4c21-df6d-f41f57f60f03"
      },
      "execution_count": 11,
      "outputs": [
        {
          "output_type": "execute_result",
          "data": {
            "text/plain": [
              "4"
            ]
          },
          "metadata": {},
          "execution_count": 11
        }
      ]
    },
    {
      "cell_type": "code",
      "source": [
        "s = 'best of best'\n",
        "s.count('best',5)"
      ],
      "metadata": {
        "colab": {
          "base_uri": "https://localhost:8080/"
        },
        "id": "sLn5cgtvKmJp",
        "outputId": "35297508-9b49-4fd6-c0f0-b04799af3b3c"
      },
      "execution_count": 13,
      "outputs": [
        {
          "output_type": "execute_result",
          "data": {
            "text/plain": [
              "1"
            ]
          },
          "metadata": {},
          "execution_count": 13
        }
      ]
    },
    {
      "cell_type": "code",
      "source": [
        "s = 'Life is too short'\n",
        "s.split()"
      ],
      "metadata": {
        "colab": {
          "base_uri": "https://localhost:8080/"
        },
        "id": "DxtmHLY2LhjM",
        "outputId": "55b02846-9bf1-40fc-a890-fa5328fcd148"
      },
      "execution_count": 14,
      "outputs": [
        {
          "output_type": "execute_result",
          "data": {
            "text/plain": [
              "['Life', 'is', 'too', 'short']"
            ]
          },
          "metadata": {},
          "execution_count": 14
        }
      ]
    },
    {
      "cell_type": "code",
      "source": [
        "ques = input('이름과 나이를 함께 입력하세요(예 : 홍길동 26)')\n",
        "ques.split()\n"
      ],
      "metadata": {
        "colab": {
          "base_uri": "https://localhost:8080/"
        },
        "id": "fQ6Hbk2WMAnG",
        "outputId": "f6d80001-ff4d-4e18-bfae-006cab894be2"
      },
      "execution_count": 15,
      "outputs": [
        {
          "name": "stdout",
          "output_type": "stream",
          "text": [
            "이름과 나이를 함께 입력하세요(예 : 홍길동 26)김재윤 25\n"
          ]
        },
        {
          "output_type": "execute_result",
          "data": {
            "text/plain": [
              "['김재윤', '25']"
            ]
          },
          "metadata": {},
          "execution_count": 15
        }
      ]
    },
    {
      "cell_type": "code",
      "source": [
        "# 사용자 정의 함수 - 사용자가 직접 만든 함수.\n",
        "\n",
        "# 입력 input\n",
        "# 출력 output\n",
        "\n",
        "# 1. 입력이 있고 리턴이 있는 함수\n",
        "# 2. 입력이 없고 리턴도 없는 함수\n",
        "# 3. 입력이 없고 리턴은 있는 함수\n",
        "# 3. 입력이 없고 리턴도 없는 함수\n",
        "\n",
        "# def 함수이름(매개변수):\n",
        "#   본문\n",
        "#   return 반환값\n"
      ],
      "metadata": {
        "id": "d5CVhC3YNx5J"
      },
      "execution_count": 19,
      "outputs": []
    },
    {
      "cell_type": "code",
      "source": [
        "# 입력 x 리턴 x\n",
        "def welcome():\n",
        "  print('Hello python')\n",
        "  print('Nice to meet you')\n",
        "welcome()"
      ],
      "metadata": {
        "colab": {
          "base_uri": "https://localhost:8080/"
        },
        "id": "1ADtuwzSOzCS",
        "outputId": "e8affba5-e61a-4474-df7c-f66710467cfd"
      },
      "execution_count": 21,
      "outputs": [
        {
          "output_type": "stream",
          "name": "stdout",
          "text": [
            "Hello python\n",
            "Nice to meet you\n"
          ]
        }
      ]
    },
    {
      "cell_type": "code",
      "source": [
        "# 입력 o 리턴 x\n",
        "def introduce(name,age):\n",
        "  print(f'내 이름은 {name}이고, 나이는 {age}살입니다.')\n",
        "\n",
        "introduce('james',25)\n",
        "introduce('andy',22)\n",
        "introduce('james',25)"
      ],
      "metadata": {
        "colab": {
          "base_uri": "https://localhost:8080/"
        },
        "id": "HyUk_t9lTWCz",
        "outputId": "72058a42-43e0-4621-8f19-09162db3cfb5"
      },
      "execution_count": 25,
      "outputs": [
        {
          "output_type": "stream",
          "name": "stdout",
          "text": [
            "내 이름은 james이고, 나이는 25살입니다.\n",
            "내 이름은 andy이고, 나이는 22살입니다.\n",
            "내 이름은 james이고, 나이는 25살입니다.\n"
          ]
        }
      ]
    },
    {
      "cell_type": "code",
      "source": [
        "def show(*args):\n",
        "  for item in args:\n",
        "    print(item)\n",
        "\n",
        "show('pyhton')\n",
        "show('happy','birthday')"
      ],
      "metadata": {
        "colab": {
          "base_uri": "https://localhost:8080/"
        },
        "id": "EFoOsfAEUCVj",
        "outputId": "551fc0d4-f991-486d-e978-b22ac15b3b26"
      },
      "execution_count": 26,
      "outputs": [
        {
          "output_type": "stream",
          "name": "stdout",
          "text": [
            "pyhton\n",
            "happy\n",
            "birthday\n"
          ]
        }
      ]
    },
    {
      "cell_type": "code",
      "source": [
        "def addsum2(a,b,c):\n",
        "  print(a+b+c)\n",
        "addsum2(1,2,3)"
      ],
      "metadata": {
        "colab": {
          "base_uri": "https://localhost:8080/"
        },
        "id": "fZmGxBl2Uzsv",
        "outputId": "7da4b577-34c1-4d1c-a9e7-e751b96a77b9"
      },
      "execution_count": 28,
      "outputs": [
        {
          "output_type": "stream",
          "name": "stdout",
          "text": [
            "6\n"
          ]
        }
      ]
    },
    {
      "cell_type": "code",
      "source": [
        "# 가변 매개변수\n",
        "def addsum(*args):\n",
        "  sum = 0\n",
        "  for arg in args:\n",
        "    sum = sum +arg\n",
        "  print(sum)\n",
        "addsum(1,2,3,4,1,2,3,1,2,3,1,2,3)"
      ],
      "metadata": {
        "colab": {
          "base_uri": "https://localhost:8080/"
        },
        "id": "BFStHW1sVUei",
        "outputId": "99231cd1-30ec-4626-e870-476889993aef"
      },
      "execution_count": 31,
      "outputs": [
        {
          "output_type": "stream",
          "name": "stdout",
          "text": [
            "28\n"
          ]
        }
      ]
    },
    {
      "cell_type": "code",
      "source": [
        "# 디폴트 매개변수는 마지막에 위치시킨다.\n",
        "def greet(name,message='안녕하세요'):\n",
        "  print(f'{name}님 {message}')\n",
        "\n",
        "greet('김철수')\n"
      ],
      "metadata": {
        "colab": {
          "base_uri": "https://localhost:8080/"
        },
        "id": "5JmrrAMeVpMO",
        "outputId": "350c5f6c-fb96-435e-9b5c-fd607ecdacf7"
      },
      "execution_count": 39,
      "outputs": [
        {
          "output_type": "stream",
          "name": "stdout",
          "text": [
            "김철수님 안녕하세요\n"
          ]
        }
      ]
    },
    {
      "cell_type": "code",
      "source": [
        "# 입력 x 리턴 o\n",
        "\n",
        "def address():\n",
        "  str = '우편번호 12345\\n'\n",
        "  str += '서울시 영등포구 여의도동'\n",
        "  return str\n",
        "\n",
        "print(address())"
      ],
      "metadata": {
        "colab": {
          "base_uri": "https://localhost:8080/"
        },
        "id": "gcJAuQVuXWVT",
        "outputId": "e27a2264-090a-40ab-99c2-66838778bbcc"
      },
      "execution_count": 44,
      "outputs": [
        {
          "output_type": "stream",
          "name": "stdout",
          "text": [
            "우편번호 12345\n",
            "서울시 영등포구 여의도동\n"
          ]
        }
      ]
    },
    {
      "cell_type": "code",
      "source": [
        "def calculator(*args):\n",
        "  return sum(args),sum(args)/len(args),max(args),min(args)\n",
        "\n",
        "a,b,c,d = calculator(1,2,3,4,5)\n",
        "print(a)\n",
        "print(b)\n",
        "print(c)\n",
        "print(d)"
      ],
      "metadata": {
        "colab": {
          "base_uri": "https://localhost:8080/"
        },
        "id": "5rH5gN6yYuAg",
        "outputId": "6ea3f729-a1df-4bca-f14e-1a8f2663830d"
      },
      "execution_count": 52,
      "outputs": [
        {
          "output_type": "stream",
          "name": "stdout",
          "text": [
            "15\n",
            "3.0\n",
            "5\n",
            "1\n"
          ]
        }
      ]
    },
    {
      "cell_type": "code",
      "source": [
        "def charge(energy):\n",
        "  if energy<0:\n",
        "    print('0 보다 작은 에너지는 충전할 수 없습니다.')\n",
        "    return\n",
        "  print('에너지가 충전되었습니다.')\n",
        "charge(-1)"
      ],
      "metadata": {
        "colab": {
          "base_uri": "https://localhost:8080/"
        },
        "id": "31qhNT6IaiAi",
        "outputId": "915bcf16-9a33-4a36-fdc8-12c2a12dc516"
      },
      "execution_count": 55,
      "outputs": [
        {
          "output_type": "stream",
          "name": "stdout",
          "text": [
            "0 보다 작은 에너지는 충전할 수 없습니다.\n"
          ]
        }
      ]
    },
    {
      "cell_type": "code",
      "source": [
        "# local variable & global variable\n",
        "\n",
        "# local variable 지역 변수\n",
        "def f():\n",
        "  a = 10\n",
        "  print(f'내부 :{a}')\n",
        "  print(f'외부 : {a}')\n",
        "\n",
        "f()\n",
        "\n"
      ],
      "metadata": {
        "colab": {
          "base_uri": "https://localhost:8080/",
          "height": 246
        },
        "id": "oEs_C8U4bWUN",
        "outputId": "2ae399e4-32d4-4bc6-d4d5-cdd70df94495"
      },
      "execution_count": 60,
      "outputs": [
        {
          "output_type": "stream",
          "name": "stdout",
          "text": [
            "내부 :10\n",
            "외부 : 10\n"
          ]
        },
        {
          "output_type": "error",
          "ename": "NameError",
          "evalue": "ignored",
          "traceback": [
            "\u001b[0;31m---------------------------------------------------------------------------\u001b[0m",
            "\u001b[0;31mNameError\u001b[0m                                 Traceback (most recent call last)",
            "\u001b[0;32m<ipython-input-60-554070e9dae2>\u001b[0m in \u001b[0;36m<module>\u001b[0;34m()\u001b[0m\n\u001b[1;32m      9\u001b[0m \u001b[0mf\u001b[0m\u001b[0;34m(\u001b[0m\u001b[0;34m)\u001b[0m\u001b[0;34m\u001b[0m\u001b[0;34m\u001b[0m\u001b[0m\n\u001b[1;32m     10\u001b[0m \u001b[0;34m\u001b[0m\u001b[0m\n\u001b[0;32m---> 11\u001b[0;31m \u001b[0mfind\u001b[0m\u001b[0;34m(\u001b[0m\u001b[0ma\u001b[0m\u001b[0;34m)\u001b[0m\u001b[0;34m\u001b[0m\u001b[0;34m\u001b[0m\u001b[0m\n\u001b[0m",
            "\u001b[0;31mNameError\u001b[0m: name 'find' is not defined"
          ]
        }
      ]
    },
    {
      "cell_type": "code",
      "source": [
        "# global variable 전역 변수\n",
        "b = 10\n",
        "\n",
        "def f():\n",
        "  print(f'내부:{b}')\n",
        "f()"
      ],
      "metadata": {
        "colab": {
          "base_uri": "https://localhost:8080/"
        },
        "id": "LuASvAbpb0I9",
        "outputId": "c33630f1-90db-4b8e-b776-d3fe1a814b51"
      },
      "execution_count": 61,
      "outputs": [
        {
          "output_type": "stream",
          "name": "stdout",
          "text": [
            "내부:10\n"
          ]
        }
      ]
    },
    {
      "cell_type": "code",
      "source": [
        "# 1\n",
        "def vending_machine(money):\n",
        "  price = 700\n",
        "\n",
        "  for i in range((money // price)+1):\n",
        "    coin = money - price * i\n",
        "    print(f'음료수 = {i}개, 잔돈 = {coin}원')\n",
        "  \n",
        "\n",
        "\n",
        "vending_machine(3000)"
      ],
      "metadata": {
        "colab": {
          "base_uri": "https://localhost:8080/"
        },
        "id": "nKuohx44gSEw",
        "outputId": "bfc9e098-f12f-4a48-9943-cb2c7b2d1776"
      },
      "execution_count": 66,
      "outputs": [
        {
          "output_type": "stream",
          "name": "stdout",
          "text": [
            "음료수 = 0개, 잔돈 = 3000원\n",
            "음료수 = 1개, 잔돈 = 2300원\n",
            "음료수 = 2개, 잔돈 = 1600원\n",
            "음료수 = 3개, 잔돈 = 900원\n",
            "음료수 = 4개, 잔돈 = 200원\n"
          ]
        }
      ]
    },
    {
      "cell_type": "code",
      "source": [
        "# 2\n",
        "def get_average(marks):\n",
        "  sum = 0\n",
        "  for i in marks:\n",
        "    sum += marks[i]\n",
        "  return sum/len(marks)\n",
        "    \n",
        "marks = {'국어':90,'영어':80,'수학':85}\n",
        "average = get_average(marks)\n",
        "print(f'평균은 {average}점입니다.')\n",
        "\n",
        "\n"
      ],
      "metadata": {
        "colab": {
          "base_uri": "https://localhost:8080/"
        },
        "id": "NAnso9HojJn4",
        "outputId": "8eac9fb7-ba9c-48ae-93ff-c3228952cf3b"
      },
      "execution_count": 95,
      "outputs": [
        {
          "output_type": "stream",
          "name": "stdout",
          "text": [
            "평균은 85.0점입니다.\n"
          ]
        }
      ]
    },
    {
      "cell_type": "code",
      "source": [
        "# 3\n",
        "total = 0\n",
        "def gift(dic,who,money):\n",
        "    global total\n",
        "    total += money\n",
        "    dic[who]=money\n",
        "\n",
        "\n",
        "\n",
        "\n",
        "wedding = {}\n",
        "gift(wedding, '영희', 5)\n",
        "gift(wedding, '철수', 3)\n",
        "gift(wedding, '이모', 10)\n",
        "print(f'축의금 명단 : {wedding}')\n",
        "print(f'전체 축의금 : {total}')"
      ],
      "metadata": {
        "colab": {
          "base_uri": "https://localhost:8080/"
        },
        "id": "HvGE4Fh-ls8w",
        "outputId": "c489087f-9a8d-4cb9-c9d7-7f2a6e72300e"
      },
      "execution_count": 90,
      "outputs": [
        {
          "output_type": "stream",
          "name": "stdout",
          "text": [
            "축의금 명단 : {'영희': 5, '철수': 3, '이모': 10}\n",
            "전체 축의금 : 18\n"
          ]
        }
      ]
    },
    {
      "cell_type": "code",
      "source": [
        "# 모듈과 임포트\n",
        "\n",
        "# 모듈 : 재사용이 가능하도록 변수,함수,클래스 등 을 모아놓은 .py"
      ],
      "metadata": {
        "id": "OkVXUEpDoQ5k"
      },
      "execution_count": null,
      "outputs": []
    }
  ]
}