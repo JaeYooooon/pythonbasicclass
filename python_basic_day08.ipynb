{
  "nbformat": 4,
  "nbformat_minor": 0,
  "metadata": {
    "colab": {
      "name": "pythonbasicday10.ipynb",
      "provenance": [],
      "authorship_tag": "ABX9TyPEkGpxYbSI45Q2+afLKfKm",
      "include_colab_link": true
    },
    "kernelspec": {
      "name": "python3",
      "display_name": "Python 3"
    },
    "language_info": {
      "name": "python"
    }
  },
  "cells": [
    {
      "cell_type": "markdown",
      "metadata": {
        "id": "view-in-github",
        "colab_type": "text"
      },
      "source": [
        "<a href=\"https://colab.research.google.com/github/JaeYooooon/pythonbasicclass/blob/main/pythonbasicday10.ipynb\" target=\"_parent\"><img src=\"https://colab.research.google.com/assets/colab-badge.svg\" alt=\"Open In Colab\"/></a>"
      ]
    },
    {
      "cell_type": "code",
      "execution_count": null,
      "metadata": {
        "id": "8bNOIYD_IQx8"
      },
      "outputs": [],
      "source": [
        "# 클래스 class 객체 object\n",
        "# c언어에는 클래스가 없다 <-클래스가 필수는 아니다."
      ]
    },
    {
      "cell_type": "code",
      "source": [
        "result1 = 0\n",
        "def add1(num):\n",
        "  global result1 # 전역변수\n",
        "  result1 +=num\n",
        "  return result1\n",
        "\n",
        "result2 = 0\n",
        "def add2(num):\n",
        "  global result2 # 전역변수\n",
        "  result2 +=num\n",
        "  return result2\n",
        "print(add1(3))\n",
        "print(add1(4))\n",
        "\n",
        "print(add2(2))\n",
        "print(add2(5))\n"
      ],
      "metadata": {
        "colab": {
          "base_uri": "https://localhost:8080/"
        },
        "id": "2DRnBXfSIlLx",
        "outputId": "3486136f-8d63-46fe-fef8-0c845cca474a"
      },
      "execution_count": 1,
      "outputs": [
        {
          "output_type": "stream",
          "name": "stdout",
          "text": [
            "3\n",
            "7\n",
            "2\n",
            "7\n"
          ]
        }
      ]
    },
    {
      "cell_type": "code",
      "source": [
        "print(add1(3))\n",
        "print(add2(5))"
      ],
      "metadata": {
        "colab": {
          "base_uri": "https://localhost:8080/"
        },
        "id": "w9r0d1ELI5dH",
        "outputId": "072db4df-1f88-457e-9fe6-e83dcceb95a4"
      },
      "execution_count": 2,
      "outputs": [
        {
          "output_type": "stream",
          "name": "stdout",
          "text": [
            "10\n",
            "12\n"
          ]
        }
      ]
    },
    {
      "cell_type": "code",
      "source": [
        "class Calculator:\n",
        "  def __init__(self): # __init__ 생성자는 객체를 생성할때 자동으로 호출\n",
        "    self.result = 0\n",
        "  def add(self,num): # self는 호출한 그 객체를 말한다\n",
        "    self.result +=num\n",
        "    return self.result # self는 호출한 그 객체를 말한다\n",
        "\n",
        "cal1 = Calculator()\n",
        "cal2 = Calculator()"
      ],
      "metadata": {
        "id": "wkVGtuwfKbsJ"
      },
      "execution_count": 5,
      "outputs": []
    },
    {
      "cell_type": "code",
      "source": [
        "print(cal1.add(3))"
      ],
      "metadata": {
        "colab": {
          "base_uri": "https://localhost:8080/"
        },
        "id": "nxWG6PzAKfMz",
        "outputId": "cea54d67-7948-43a7-9e39-75e3ea3b4c26"
      },
      "execution_count": 6,
      "outputs": [
        {
          "output_type": "stream",
          "name": "stdout",
          "text": [
            "3\n"
          ]
        }
      ]
    },
    {
      "cell_type": "code",
      "source": [
        "class FourCal:\n",
        "  def selfdata(self,first,second):\n",
        "    self.first = first\n",
        "    self.second = second"
      ],
      "metadata": {
        "id": "IW51fYn_NiVa"
      },
      "execution_count": 16,
      "outputs": []
    },
    {
      "cell_type": "code",
      "source": [
        "a = FourCal()\n",
        "b = FourCal()"
      ],
      "metadata": {
        "id": "kYbwGbQrNsz9"
      },
      "execution_count": 21,
      "outputs": []
    },
    {
      "cell_type": "code",
      "source": [
        "a.selfdata(4,2)\n",
        "b.selfdata(3,5)"
      ],
      "metadata": {
        "id": "yd1VTaPoNu2q"
      },
      "execution_count": 22,
      "outputs": []
    },
    {
      "cell_type": "code",
      "source": [
        "a.first,a.second\n",
        "b.first,b.second"
      ],
      "metadata": {
        "colab": {
          "base_uri": "https://localhost:8080/"
        },
        "id": "hlVYbPzJOz7u",
        "outputId": "eb95226a-1099-4a4c-b513-0a41f689caf2"
      },
      "execution_count": 24,
      "outputs": [
        {
          "output_type": "execute_result",
          "data": {
            "text/plain": [
              "(3, 5)"
            ]
          },
          "metadata": {},
          "execution_count": 24
        }
      ]
    },
    {
      "cell_type": "code",
      "source": [
        "class FourCal:\n",
        "  def __init__(self, first, second):\n",
        "    self.first = first\n",
        "    self.second = second\n",
        "    \n",
        "  def setdata(self, first, second):  # self = a(객체의이름), first = 4, second = 2\n",
        "    self.first = first   # a.first = 4\n",
        "    self.second = second # a.second = 2\n",
        "\n",
        "  def add(self):\n",
        "    result = self.first + self.second\n",
        "    return result\n",
        "\n",
        "  def mul(self):\n",
        "    result = self.first * self.second\n",
        "    return result\n",
        "\n",
        "  def sub(self):\n",
        "    result = self.first - self.second\n",
        "    return result\n",
        "\n",
        "  def div(self):\n",
        "    result = self.first / self.second\n",
        "    return result"
      ],
      "metadata": {
        "id": "sesjbR3KPpc-"
      },
      "execution_count": 40,
      "outputs": []
    },
    {
      "cell_type": "code",
      "source": [
        "a = FourCal()\n",
        "a.setdata(4,2)\n",
        "print(a.first)\n",
        "print(a.second)\n"
      ],
      "metadata": {
        "colab": {
          "base_uri": "https://localhost:8080/"
        },
        "id": "y0zoZ_AXP8LV",
        "outputId": "dbbd7984-e040-4de8-c0c5-c3ecb6ad9f48"
      },
      "execution_count": 35,
      "outputs": [
        {
          "output_type": "stream",
          "name": "stdout",
          "text": [
            "4\n",
            "2\n"
          ]
        }
      ]
    },
    {
      "cell_type": "code",
      "source": [
        "print(a.add())"
      ],
      "metadata": {
        "colab": {
          "base_uri": "https://localhost:8080/"
        },
        "id": "3xXfVZw9QUCh",
        "outputId": "ad052d11-b8e9-4c62-d6b3-d1d8a887dfb8"
      },
      "execution_count": 36,
      "outputs": [
        {
          "output_type": "stream",
          "name": "stdout",
          "text": [
            "6\n"
          ]
        }
      ]
    },
    {
      "cell_type": "code",
      "source": [
        "c = FourCal()\n",
        "c.setdata(1,2)\n",
        "\n",
        "print(c.add())\n",
        "print(c.mul())\n",
        "print(c.sub())\n"
      ],
      "metadata": {
        "colab": {
          "base_uri": "https://localhost:8080/"
        },
        "id": "OFGZ69pQRqxQ",
        "outputId": "2c9c296f-32e8-4f8e-c451-a06c66f39535"
      },
      "execution_count": 38,
      "outputs": [
        {
          "output_type": "stream",
          "name": "stdout",
          "text": [
            "3\n",
            "2\n",
            "-1\n"
          ]
        }
      ]
    },
    {
      "cell_type": "code",
      "source": [
        "# 생성자 __init__ Constructor\n",
        "# 상속 inheritance\n",
        "# 어떤 클래스를 만들때 다른 클래스의 기능을 물려받을 수 있는 기능\n",
        "# 보통 상속은 기존 클래스를 변경하지 않고 기능을 추가하거나\n",
        "# 기존 기능을 변경하려고 할때 사용된다.\n"
      ],
      "metadata": {
        "id": "9d_Ecy1aS1d_"
      },
      "execution_count": null,
      "outputs": []
    },
    {
      "cell_type": "code",
      "source": [
        "class MoreFourCal(FourCal):\n",
        "  def pow(self):\n",
        "    result = self.first ** self.second\n",
        "    return result\n",
        "\n",
        "e = MoreFourCal(3,2)\n",
        "e.pow()"
      ],
      "metadata": {
        "colab": {
          "base_uri": "https://localhost:8080/"
        },
        "id": "gLUZnAmoZSnq",
        "outputId": "ab44017e-15bc-424d-aec0-1baa84d65a7c"
      },
      "execution_count": 47,
      "outputs": [
        {
          "output_type": "execute_result",
          "data": {
            "text/plain": [
              "9"
            ]
          },
          "metadata": {},
          "execution_count": 47
        }
      ]
    },
    {
      "cell_type": "code",
      "source": [
        "# 매서드 오버라이딩(*덮어쓰기*) mathod overriding\n",
        "a =FourCal(4,0) # 부모 클래스 인 FourCal로 a라는 객체를 생성했다.\n",
        "a.div() # 0으로 나누면 에러발생"
      ],
      "metadata": {
        "id": "6mtcZDwEbUWI"
      },
      "execution_count": null,
      "outputs": []
    },
    {
      "cell_type": "code",
      "source": [
        "class SafeFourCal(FourCal):\n",
        "  def div(self):\n",
        "    if self.second == 0:\n",
        "      return 0\n",
        "    else :\n",
        "      return self.first / self.second\n",
        "f = SafeFourCal(4,0)\n",
        "f.div()\n"
      ],
      "metadata": {
        "colab": {
          "base_uri": "https://localhost:8080/"
        },
        "id": "lpgejcNEbwK0",
        "outputId": "605afb9e-d924-410f-b20d-36280f79caba"
      },
      "execution_count": 54,
      "outputs": [
        {
          "output_type": "execute_result",
          "data": {
            "text/plain": [
              "0"
            ]
          },
          "metadata": {},
          "execution_count": 54
        }
      ]
    },
    {
      "cell_type": "code",
      "source": [
        "# 클래스 변수 \n",
        "# 객체변수는 다른 객체들에 영향을 받지 않고 독립적으로 그 값을 유지한다는 것이\n",
        "# 중요하다\n",
        "# 클래스 변수는 객체 생성 없이도 사용할 수 있다.\n",
        "\n",
        "class Family:\n",
        "  lastname = '김' # 클래스 변수 선언\n",
        "\n",
        "Family.lastname\n",
        "\n",
        "\n"
      ],
      "metadata": {
        "colab": {
          "base_uri": "https://localhost:8080/",
          "height": 35
        },
        "id": "CZyNPmIidGMT",
        "outputId": "09ca6f53-a25e-486c-ef90-cbd63186e6a2"
      },
      "execution_count": 55,
      "outputs": [
        {
          "output_type": "execute_result",
          "data": {
            "application/vnd.google.colaboratory.intrinsic+json": {
              "type": "string"
            },
            "text/plain": [
              "'김'"
            ]
          },
          "metadata": {},
          "execution_count": 55
        }
      ]
    },
    {
      "cell_type": "code",
      "source": [
        "a = Family()\n",
        "b = Family()\n",
        "print(a.lastname)\n",
        "print(b.lastname)\n"
      ],
      "metadata": {
        "colab": {
          "base_uri": "https://localhost:8080/"
        },
        "id": "nP4gp_PueTGq",
        "outputId": "5946f396-04ce-4d7b-a749-b3875ae7b41a"
      },
      "execution_count": 57,
      "outputs": [
        {
          "output_type": "stream",
          "name": "stdout",
          "text": [
            "김\n",
            "김\n"
          ]
        }
      ]
    },
    {
      "cell_type": "code",
      "source": [
        "Family.lastname = '박'"
      ],
      "metadata": {
        "id": "f6OhIDVxemU4"
      },
      "execution_count": null,
      "outputs": []
    },
    {
      "cell_type": "code",
      "source": [
        "class book:\n",
        "  def print_info(self):\n",
        "    print(f'책 제목 : {self.bookn}')\n",
        "    print(f'책 저자 : {self.booka}')\n",
        "  def set_info(self,bookn,booka):\n",
        "    self.bookn = bookn\n",
        "    self.booka = booka\n",
        "\n",
        "book1 = Book()\n",
        "book2 = Book()\n",
        "\n",
        "book1.set_info('파이썬','민경태')\n",
        "book2.set_info('어린왕자','생택쥐배리')\n",
        "\n",
        "book1.print_info()\n",
        "book2.print_info()\n",
        "\n"
      ],
      "metadata": {
        "colab": {
          "base_uri": "https://localhost:8080/"
        },
        "id": "-q9Zg7KSepzB",
        "outputId": "b1a84537-fdb6-4615-f951-a93214240153"
      },
      "execution_count": 65,
      "outputs": [
        {
          "output_type": "stream",
          "name": "stdout",
          "text": [
            "책 제목: 파이썬\n",
            "책 저자: 민경태\n",
            "책 제목: 어린왕자\n",
            "책 저자: 생택쥐배리\n"
          ]
        }
      ]
    },
    {
      "cell_type": "code",
      "source": [
        "# 예외 처리 Exception\n",
        "try:\n",
        "  a = int(input('제수를 입력하세요'))\n",
        "  b = int(input('피제수를 입력하세요'))\n",
        "  print(a/b)\n",
        "except ZeroDivisionError:\n",
        "  print('0으로 나누는 것은 불가능합니다.')\n",
        "except ValueError:\n",
        "  print('정수만 입력할수 있습니다.')"
      ],
      "metadata": {
        "colab": {
          "base_uri": "https://localhost:8080/"
        },
        "id": "I7zpoW0ll9Lu",
        "outputId": "ca84cbf3-6cf7-4719-bd1e-b2082e8b8c97"
      },
      "execution_count": 67,
      "outputs": [
        {
          "output_type": "stream",
          "name": "stdout",
          "text": [
            "제수를 입력하세요2\n",
            "피제수를 입력하세요0.1\n",
            "정수만 입력할수 있습니다.\n"
          ]
        }
      ]
    },
    {
      "cell_type": "code",
      "source": [
        "a = [10,20,30,40,50]\n",
        "try:\n",
        "  a[10]\n",
        "except IndexError as e:\n",
        "  print(e)"
      ],
      "metadata": {
        "colab": {
          "base_uri": "https://localhost:8080/"
        },
        "id": "AUuyuyhVoqKr",
        "outputId": "27f74700-f956-40ef-cbf2-efcb213ab4f3"
      },
      "execution_count": 71,
      "outputs": [
        {
          "output_type": "stream",
          "name": "stdout",
          "text": [
            "list index out of range\n"
          ]
        }
      ]
    },
    {
      "cell_type": "code",
      "source": [
        "try:\n",
        "  a = int(input('제수를 입력하세요'))\n",
        "  b = int(input('피제수를 입력하세요'))\n",
        "  result = a / b\n",
        "except ZeroDivisionError:\n",
        "  print('0으로 나누는 것은 불가능합니다.')\n",
        "except ValueError:\n",
        "  print('정수만 입력할수 있습니다.')\n",
        "except Exception:\n",
        "  print('알수 없는 예외가 발생했습니다.')\n",
        "else:  # 예외가 발생하지 않았을 경우 접근\n",
        "  print(result)\n",
        "finally: # 예외 발생 여부와는 상관없이 항상 마지막에 접근\n",
        "  print('프로그램을 종료합니다.')"
      ],
      "metadata": {
        "colab": {
          "base_uri": "https://localhost:8080/"
        },
        "id": "4GFinba8qgXy",
        "outputId": "ea70b925-eee8-41c8-f74b-e6d4ec8d7011"
      },
      "execution_count": 72,
      "outputs": [
        {
          "output_type": "stream",
          "name": "stdout",
          "text": [
            "제수를 입력하세요2\n",
            "피제수를 입력하세요1\n",
            "2.0\n",
            "프로그램을 종료합니다.\n"
          ]
        }
      ]
    },
    {
      "cell_type": "code",
      "source": [
        "# 강제 예외 발생\n",
        "try:\n",
        "  raise Exception('강제 예외 발생')\n",
        "except Exception as e:\n",
        "  print('발생 한 예외 메세지')\n",
        "  print(e)"
      ],
      "metadata": {
        "colab": {
          "base_uri": "https://localhost:8080/"
        },
        "id": "LjZW2nGxqiZA",
        "outputId": "b347fb4c-0b33-47e5-c002-2f8f0384d742"
      },
      "execution_count": 73,
      "outputs": [
        {
          "output_type": "stream",
          "name": "stdout",
          "text": [
            "발생 한 예외 메세지\n",
            "강제 예외 발생\n"
          ]
        }
      ]
    },
    {
      "cell_type": "code",
      "source": [
        "import random\n",
        "\n",
        "class UpDown():\n",
        "  def __init__(self):\n",
        "    self.answer = random.randint(1,100)\n",
        "    self.count = 0\n",
        "\n",
        "  def play(self):\n",
        "    while True:\n",
        "      try:\n",
        "        no = self.challenge()\n",
        "      except Exception as e:\n",
        "        print(e)\n",
        "      else:\n",
        "        if self.answer < no:\n",
        "          print('Down!')\n",
        "        elif self.answer > no:\n",
        "          print('Up!')\n",
        "        else:\n",
        "          print(f'{self.count}만의 정답니다.')\n",
        "          break\n",
        "\n",
        "  def challenge(self):\n",
        "    self.count += 1\n",
        "    no = int(input('입력(1~100) >>>'))\n",
        "    if no < 1 or no > 100:\n",
        "      raise Exception('1~100 사이만 입력하셔요')\n",
        "    return no\n",
        "\n",
        "\n",
        "\n",
        "game = UpDown()\n",
        "game.play()"
      ],
      "metadata": {
        "colab": {
          "base_uri": "https://localhost:8080/"
        },
        "id": "shYWKZx-vsaC",
        "outputId": "89d7a407-38d3-4223-8158-6650a625a8bc"
      },
      "execution_count": 79,
      "outputs": [
        {
          "output_type": "stream",
          "name": "stdout",
          "text": [
            "입력(1~100) >>>50\n",
            "Up!\n",
            "입력(1~100) >>>75\n",
            "Down!\n",
            "입력(1~100) >>>689\n",
            "1~100 사이만 입력하셔요\n",
            "입력(1~100) >>>68\n",
            "Down!\n",
            "입력(1~100) >>>64\n",
            "Down!\n",
            "입력(1~100) >>>62\n",
            "Down!\n",
            "입력(1~100) >>>61\n",
            "Down!\n",
            "입력(1~100) >>>55\n",
            "Up!\n",
            "입력(1~100) >>>587\n",
            "1~100 사이만 입력하셔요\n",
            "입력(1~100) >>>57\n",
            "Up!\n",
            "입력(1~100) >>>58\n",
            "11만의 정답니다.\n"
          ]
        }
      ]
    }
  ]
}
